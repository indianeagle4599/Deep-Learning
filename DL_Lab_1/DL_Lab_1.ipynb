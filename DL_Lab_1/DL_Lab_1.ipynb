{
 "cells": [
  {
   "cell_type": "markdown",
   "metadata": {
    "id": "qYtGFZvP_oVG"
   },
   "source": [
    "# Deep Learning Lab 1\n",
    "\n",
    "## Tasks:\n",
    "\n",
    "### Loading Datasets\n",
    "* Load the data from Google Drive.\n",
    "* Show that you can get data using Kaggle API.\n",
    "* Mount the drive and load local data.\n",
    "\n",
    "### Google Drive features and functionalities\n",
    "* Install libraries using pip.\n",
    "* Run a Neural Network on MNIST dataset.\n",
    "* Show results using CPU, GPU and TPU configurations.\n",
    "\n",
    "### Neural Networks Practice\n",
    "* Create a Neural network to run on your dataset."
   ]
  },
  {
   "cell_type": "code",
   "execution_count": 1,
   "metadata": {
    "id": "MQjE18D5oI_h"
   },
   "outputs": [],
   "source": [
    "import numpy as np\n",
    "import pandas as pd"
   ]
  },
  {
   "cell_type": "markdown",
   "metadata": {
    "id": "9VIqKfn-n_bL"
   },
   "source": [
    "## Loading Datastets"
   ]
  },
  {
   "cell_type": "markdown",
   "metadata": {
    "id": "8o06b2p6sBPa"
   },
   "source": [
    "### Loading from Google Drive"
   ]
  },
  {
   "cell_type": "code",
   "execution_count": 2,
   "metadata": {
    "colab": {
     "base_uri": "https://localhost:8080/",
     "height": 0
    },
    "id": "0RPvpq9E-0CP",
    "outputId": "a835b641-f74d-4562-8a28-8c1b597e87f7"
   },
   "outputs": [
    {
     "data": {
      "text/html": [
       "<div>\n",
       "<style scoped>\n",
       "    .dataframe tbody tr th:only-of-type {\n",
       "        vertical-align: middle;\n",
       "    }\n",
       "\n",
       "    .dataframe tbody tr th {\n",
       "        vertical-align: top;\n",
       "    }\n",
       "\n",
       "    .dataframe thead th {\n",
       "        text-align: right;\n",
       "    }\n",
       "</style>\n",
       "<table border=\"1\" class=\"dataframe\">\n",
       "  <thead>\n",
       "    <tr style=\"text-align: right;\">\n",
       "      <th></th>\n",
       "      <th>longitude</th>\n",
       "      <th>latitude</th>\n",
       "      <th>housing_median_age</th>\n",
       "      <th>total_rooms</th>\n",
       "      <th>total_bedrooms</th>\n",
       "      <th>population</th>\n",
       "      <th>households</th>\n",
       "      <th>median_income</th>\n",
       "      <th>median_house_value</th>\n",
       "    </tr>\n",
       "  </thead>\n",
       "  <tbody>\n",
       "    <tr>\n",
       "      <th>0</th>\n",
       "      <td>-114.31</td>\n",
       "      <td>34.19</td>\n",
       "      <td>15.0</td>\n",
       "      <td>5612.0</td>\n",
       "      <td>1283.0</td>\n",
       "      <td>1015.0</td>\n",
       "      <td>472.0</td>\n",
       "      <td>1.4936</td>\n",
       "      <td>66900.0</td>\n",
       "    </tr>\n",
       "    <tr>\n",
       "      <th>1</th>\n",
       "      <td>-114.47</td>\n",
       "      <td>34.40</td>\n",
       "      <td>19.0</td>\n",
       "      <td>7650.0</td>\n",
       "      <td>1901.0</td>\n",
       "      <td>1129.0</td>\n",
       "      <td>463.0</td>\n",
       "      <td>1.8200</td>\n",
       "      <td>80100.0</td>\n",
       "    </tr>\n",
       "    <tr>\n",
       "      <th>2</th>\n",
       "      <td>-114.56</td>\n",
       "      <td>33.69</td>\n",
       "      <td>17.0</td>\n",
       "      <td>720.0</td>\n",
       "      <td>174.0</td>\n",
       "      <td>333.0</td>\n",
       "      <td>117.0</td>\n",
       "      <td>1.6509</td>\n",
       "      <td>85700.0</td>\n",
       "    </tr>\n",
       "    <tr>\n",
       "      <th>3</th>\n",
       "      <td>-114.57</td>\n",
       "      <td>33.64</td>\n",
       "      <td>14.0</td>\n",
       "      <td>1501.0</td>\n",
       "      <td>337.0</td>\n",
       "      <td>515.0</td>\n",
       "      <td>226.0</td>\n",
       "      <td>3.1917</td>\n",
       "      <td>73400.0</td>\n",
       "    </tr>\n",
       "    <tr>\n",
       "      <th>4</th>\n",
       "      <td>-114.57</td>\n",
       "      <td>33.57</td>\n",
       "      <td>20.0</td>\n",
       "      <td>1454.0</td>\n",
       "      <td>326.0</td>\n",
       "      <td>624.0</td>\n",
       "      <td>262.0</td>\n",
       "      <td>1.9250</td>\n",
       "      <td>65500.0</td>\n",
       "    </tr>\n",
       "  </tbody>\n",
       "</table>\n",
       "</div>"
      ],
      "text/plain": [
       "   longitude  latitude  ...  median_income  median_house_value\n",
       "0    -114.31     34.19  ...         1.4936             66900.0\n",
       "1    -114.47     34.40  ...         1.8200             80100.0\n",
       "2    -114.56     33.69  ...         1.6509             85700.0\n",
       "3    -114.57     33.64  ...         3.1917             73400.0\n",
       "4    -114.57     33.57  ...         1.9250             65500.0\n",
       "\n",
       "[5 rows x 9 columns]"
      ]
     },
     "execution_count": 2,
     "metadata": {
      "tags": []
     },
     "output_type": "execute_result"
    }
   ],
   "source": [
    "gdf = pd.read_csv('/content/sample_data/california_housing_train.csv')\n",
    "gdf.head()"
   ]
  },
  {
   "cell_type": "markdown",
   "metadata": {
    "id": "b13SqFL-oY37"
   },
   "source": [
    "### Loading from Kaggle using Kaggle API\n",
    "\n",
    "Reference Link: https://www.kaggle.com/general/74235"
   ]
  },
  {
   "cell_type": "code",
   "execution_count": 3,
   "metadata": {
    "id": "Msn1ZE3XpgQE"
   },
   "outputs": [],
   "source": [
    "!pip install -q kaggle\n",
    "from google.colab import files"
   ]
  },
  {
   "cell_type": "code",
   "execution_count": 4,
   "metadata": {
    "colab": {
     "base_uri": "https://localhost:8080/",
     "height": 90,
     "resources": {
      "http://localhost:8080/nbextensions/google.colab/files.js": {
       "data": "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",
       "headers": [
        [
         "content-type",
         "application/javascript"
        ]
       ],
       "ok": true,
       "status": 200,
       "status_text": ""
      }
     }
    },
    "id": "M65-u5Cyp5w2",
    "outputId": "349b22cf-cc7d-49a4-8405-01562b7440b9"
   },
   "outputs": [
    {
     "data": {
      "text/html": [
       "\n",
       "     <input type=\"file\" id=\"files-8ad0bd3a-5f6a-498b-8c7c-77fe326c4b68\" name=\"files[]\" multiple disabled\n",
       "        style=\"border:none\" />\n",
       "     <output id=\"result-8ad0bd3a-5f6a-498b-8c7c-77fe326c4b68\">\n",
       "      Upload widget is only available when the cell has been executed in the\n",
       "      current browser session. Please rerun this cell to enable.\n",
       "      </output>\n",
       "      <script src=\"/nbextensions/google.colab/files.js\"></script> "
      ],
      "text/plain": [
       "<IPython.core.display.HTML object>"
      ]
     },
     "metadata": {
      "tags": []
     },
     "output_type": "display_data"
    },
    {
     "name": "stdout",
     "output_type": "stream",
     "text": [
      "Saving kaggle.json to kaggle.json\n"
     ]
    },
    {
     "data": {
      "text/plain": [
       "{'kaggle.json': b'{\"username\":\"hiteshgoyal1335\",\"key\":\"9f221049427369af6735a0b8f68da76c\"}'}"
      ]
     },
     "execution_count": 4,
     "metadata": {
      "tags": []
     },
     "output_type": "execute_result"
    }
   ],
   "source": [
    "files.upload()"
   ]
  },
  {
   "cell_type": "code",
   "execution_count": 5,
   "metadata": {
    "id": "OWQHqH05qCzX"
   },
   "outputs": [],
   "source": [
    "!mkdir ~/.kaggle\n",
    "!cp kaggle.json ~/.kaggle/"
   ]
  },
  {
   "cell_type": "code",
   "execution_count": 6,
   "metadata": {
    "id": "U7YArL0zqQgr"
   },
   "outputs": [],
   "source": [
    "!chmod 600 ~/.kaggle/kaggle.json"
   ]
  },
  {
   "cell_type": "code",
   "execution_count": 7,
   "metadata": {
    "colab": {
     "base_uri": "https://localhost:8080/"
    },
    "id": "6Vqhg_zFqXs5",
    "outputId": "67452fdc-f57e-4578-dbdc-d6e3067c91da"
   },
   "outputs": [
    {
     "name": "stdout",
     "output_type": "stream",
     "text": [
      "Warning: Looks like you're using an outdated API Version, please consider updating (server 1.5.12 / client 1.5.4)\n",
      "ref                                                         title                                              size  lastUpdated          downloadCount  \n",
      "----------------------------------------------------------  ------------------------------------------------  -----  -------------------  -------------  \n",
      "gpreda/reddit-vaccine-myths                                 Reddit Vaccine Myths                              233KB  2021-08-16 08:33:52          10783  \n",
      "crowww/a-large-scale-fish-dataset                           A Large Scale Fish Dataset                          3GB  2021-04-28 17:03:01           6591  \n",
      "imsparsh/musicnet-dataset                                   MusicNet Dataset                                   22GB  2021-02-18 14:12:19           2495  \n",
      "dhruvildave/wikibooks-dataset                               Wikibooks Dataset                                   2GB  2021-07-03 18:37:20           2662  \n",
      "promptcloud/careerbuilder-job-listing-2020                  Careerbuilder Job Listing 2020                     42MB  2021-03-05 06:59:52           1625  \n",
      "fatiimaezzahra/famous-iconic-women                          Famous Iconic Women                               838MB  2021-02-28 14:56:00           1134  \n",
      "mathurinache/twitter-edge-nodes                             Twitter Edge Nodes                                342MB  2021-03-08 06:43:04            770  \n",
      "nickuzmenkov/nih-chest-xrays-tfrecords                      NIH Chest X-rays TFRecords                         11GB  2021-03-09 04:49:23            945  \n",
      "alsgroup/end-als                                            End ALS Kaggle Challenge                           12GB  2021-04-08 12:16:37            845  \n",
      "simiotic/github-code-snippets                               GitHub Code Snippets                                7GB  2021-03-03 11:34:39            282  \n",
      "coloradokb/dandelionimages                                  DandelionImages                                     4GB  2021-02-19 20:03:47            715  \n",
      "mathurinache/the-lj-speech-dataset                          The LJ Speech Dataset                               3GB  2021-02-15 09:19:54            292  \n",
      "imsparsh/accentdb-core-extended                             AccentDB - Core & Extended                          6GB  2021-02-17 14:22:54            132  \n",
      "landrykezebou/lvzhdr-tone-mapping-benchmark-dataset-tmonet  LVZ-HDR Tone Mapping Benchmark Dataset (TMO-Net)   24GB  2021-03-01 05:03:40            173  \n",
      "stuartjames/lights                                          LightS: Light Specularity Dataset                  18GB  2021-02-18 14:32:26            120  \n",
      "nickuzmenkov/ranzcr-clip-kfold-tfrecords                    RANZCR CLiP KFold TFRecords                         2GB  2021-02-21 13:29:51            121  \n",
      "datasnaek/youtube-new                                       Trending YouTube Video Statistics                 201MB  2019-06-03 00:56:47         146666  \n",
      "zynicide/wine-reviews                                       Wine Reviews                                       51MB  2017-11-27 17:08:04         142024  \n",
      "residentmario/ramen-ratings                                 Ramen Ratings                                      40KB  2018-01-11 16:04:39          25802  \n",
      "datasnaek/chess                                             Chess Game Dataset (Lichess)                        3MB  2017-09-04 03:09:09          20809  \n"
     ]
    }
   ],
   "source": [
    "!kaggle datasets list"
   ]
  },
  {
   "cell_type": "code",
   "execution_count": 8,
   "metadata": {
    "colab": {
     "base_uri": "https://localhost:8080/"
    },
    "id": "D1bCavAUoXVx",
    "outputId": "2fd78d16-c239-4141-f8b9-0be33f357373"
   },
   "outputs": [
    {
     "name": "stdout",
     "output_type": "stream",
     "text": [
      "Downloading titanic.zip to /content\n",
      "\r\n",
      "  0% 0.00/34.1k [00:00<?, ?B/s]\n",
      "\r\n",
      "100% 34.1k/34.1k [00:00<00:00, 29.7MB/s]\n"
     ]
    }
   ],
   "source": [
    "!kaggle datasets download -d rahulsah06/titanic"
   ]
  },
  {
   "cell_type": "code",
   "execution_count": 9,
   "metadata": {
    "colab": {
     "base_uri": "https://localhost:8080/"
    },
    "id": "F2YacvtArPUa",
    "outputId": "ea855f94-b3cf-4418-b351-31f4f71dc773"
   },
   "outputs": [
    {
     "name": "stdout",
     "output_type": "stream",
     "text": [
      "Archive:  /content/titanic.zip\n",
      "  inflating: /content/titanic/gender_submission.csv  \n",
      "  inflating: /content/titanic/test.csv  \n",
      "  inflating: /content/titanic/train.csv  \n"
     ]
    }
   ],
   "source": [
    "!unzip '/content/titanic.zip' -d '/content/titanic/'"
   ]
  },
  {
   "cell_type": "code",
   "execution_count": 10,
   "metadata": {
    "colab": {
     "base_uri": "https://localhost:8080/",
     "height": 0
    },
    "id": "Ko2X2QskqfvI",
    "outputId": "3391d1bb-bf61-441c-97ed-f5928e7df8db"
   },
   "outputs": [
    {
     "data": {
      "text/html": [
       "<div>\n",
       "<style scoped>\n",
       "    .dataframe tbody tr th:only-of-type {\n",
       "        vertical-align: middle;\n",
       "    }\n",
       "\n",
       "    .dataframe tbody tr th {\n",
       "        vertical-align: top;\n",
       "    }\n",
       "\n",
       "    .dataframe thead th {\n",
       "        text-align: right;\n",
       "    }\n",
       "</style>\n",
       "<table border=\"1\" class=\"dataframe\">\n",
       "  <thead>\n",
       "    <tr style=\"text-align: right;\">\n",
       "      <th></th>\n",
       "      <th>PassengerId</th>\n",
       "      <th>Survived</th>\n",
       "      <th>Pclass</th>\n",
       "      <th>Name</th>\n",
       "      <th>Sex</th>\n",
       "      <th>Age</th>\n",
       "      <th>SibSp</th>\n",
       "      <th>Parch</th>\n",
       "      <th>Ticket</th>\n",
       "      <th>Fare</th>\n",
       "      <th>Cabin</th>\n",
       "      <th>Embarked</th>\n",
       "    </tr>\n",
       "  </thead>\n",
       "  <tbody>\n",
       "    <tr>\n",
       "      <th>0</th>\n",
       "      <td>1</td>\n",
       "      <td>0</td>\n",
       "      <td>3</td>\n",
       "      <td>Braund, Mr. Owen Harris</td>\n",
       "      <td>male</td>\n",
       "      <td>22.0</td>\n",
       "      <td>1</td>\n",
       "      <td>0</td>\n",
       "      <td>A/5 21171</td>\n",
       "      <td>7.2500</td>\n",
       "      <td>NaN</td>\n",
       "      <td>S</td>\n",
       "    </tr>\n",
       "    <tr>\n",
       "      <th>1</th>\n",
       "      <td>2</td>\n",
       "      <td>1</td>\n",
       "      <td>1</td>\n",
       "      <td>Cumings, Mrs. John Bradley (Florence Briggs Th...</td>\n",
       "      <td>female</td>\n",
       "      <td>38.0</td>\n",
       "      <td>1</td>\n",
       "      <td>0</td>\n",
       "      <td>PC 17599</td>\n",
       "      <td>71.2833</td>\n",
       "      <td>C85</td>\n",
       "      <td>C</td>\n",
       "    </tr>\n",
       "    <tr>\n",
       "      <th>2</th>\n",
       "      <td>3</td>\n",
       "      <td>1</td>\n",
       "      <td>3</td>\n",
       "      <td>Heikkinen, Miss. Laina</td>\n",
       "      <td>female</td>\n",
       "      <td>26.0</td>\n",
       "      <td>0</td>\n",
       "      <td>0</td>\n",
       "      <td>STON/O2. 3101282</td>\n",
       "      <td>7.9250</td>\n",
       "      <td>NaN</td>\n",
       "      <td>S</td>\n",
       "    </tr>\n",
       "    <tr>\n",
       "      <th>3</th>\n",
       "      <td>4</td>\n",
       "      <td>1</td>\n",
       "      <td>1</td>\n",
       "      <td>Futrelle, Mrs. Jacques Heath (Lily May Peel)</td>\n",
       "      <td>female</td>\n",
       "      <td>35.0</td>\n",
       "      <td>1</td>\n",
       "      <td>0</td>\n",
       "      <td>113803</td>\n",
       "      <td>53.1000</td>\n",
       "      <td>C123</td>\n",
       "      <td>S</td>\n",
       "    </tr>\n",
       "    <tr>\n",
       "      <th>4</th>\n",
       "      <td>5</td>\n",
       "      <td>0</td>\n",
       "      <td>3</td>\n",
       "      <td>Allen, Mr. William Henry</td>\n",
       "      <td>male</td>\n",
       "      <td>35.0</td>\n",
       "      <td>0</td>\n",
       "      <td>0</td>\n",
       "      <td>373450</td>\n",
       "      <td>8.0500</td>\n",
       "      <td>NaN</td>\n",
       "      <td>S</td>\n",
       "    </tr>\n",
       "    <tr>\n",
       "      <th>...</th>\n",
       "      <td>...</td>\n",
       "      <td>...</td>\n",
       "      <td>...</td>\n",
       "      <td>...</td>\n",
       "      <td>...</td>\n",
       "      <td>...</td>\n",
       "      <td>...</td>\n",
       "      <td>...</td>\n",
       "      <td>...</td>\n",
       "      <td>...</td>\n",
       "      <td>...</td>\n",
       "      <td>...</td>\n",
       "    </tr>\n",
       "    <tr>\n",
       "      <th>886</th>\n",
       "      <td>887</td>\n",
       "      <td>0</td>\n",
       "      <td>2</td>\n",
       "      <td>Montvila, Rev. Juozas</td>\n",
       "      <td>male</td>\n",
       "      <td>27.0</td>\n",
       "      <td>0</td>\n",
       "      <td>0</td>\n",
       "      <td>211536</td>\n",
       "      <td>13.0000</td>\n",
       "      <td>NaN</td>\n",
       "      <td>S</td>\n",
       "    </tr>\n",
       "    <tr>\n",
       "      <th>887</th>\n",
       "      <td>888</td>\n",
       "      <td>1</td>\n",
       "      <td>1</td>\n",
       "      <td>Graham, Miss. Margaret Edith</td>\n",
       "      <td>female</td>\n",
       "      <td>19.0</td>\n",
       "      <td>0</td>\n",
       "      <td>0</td>\n",
       "      <td>112053</td>\n",
       "      <td>30.0000</td>\n",
       "      <td>B42</td>\n",
       "      <td>S</td>\n",
       "    </tr>\n",
       "    <tr>\n",
       "      <th>888</th>\n",
       "      <td>889</td>\n",
       "      <td>0</td>\n",
       "      <td>3</td>\n",
       "      <td>Johnston, Miss. Catherine Helen \"Carrie\"</td>\n",
       "      <td>female</td>\n",
       "      <td>NaN</td>\n",
       "      <td>1</td>\n",
       "      <td>2</td>\n",
       "      <td>W./C. 6607</td>\n",
       "      <td>23.4500</td>\n",
       "      <td>NaN</td>\n",
       "      <td>S</td>\n",
       "    </tr>\n",
       "    <tr>\n",
       "      <th>889</th>\n",
       "      <td>890</td>\n",
       "      <td>1</td>\n",
       "      <td>1</td>\n",
       "      <td>Behr, Mr. Karl Howell</td>\n",
       "      <td>male</td>\n",
       "      <td>26.0</td>\n",
       "      <td>0</td>\n",
       "      <td>0</td>\n",
       "      <td>111369</td>\n",
       "      <td>30.0000</td>\n",
       "      <td>C148</td>\n",
       "      <td>C</td>\n",
       "    </tr>\n",
       "    <tr>\n",
       "      <th>890</th>\n",
       "      <td>891</td>\n",
       "      <td>0</td>\n",
       "      <td>3</td>\n",
       "      <td>Dooley, Mr. Patrick</td>\n",
       "      <td>male</td>\n",
       "      <td>32.0</td>\n",
       "      <td>0</td>\n",
       "      <td>0</td>\n",
       "      <td>370376</td>\n",
       "      <td>7.7500</td>\n",
       "      <td>NaN</td>\n",
       "      <td>Q</td>\n",
       "    </tr>\n",
       "  </tbody>\n",
       "</table>\n",
       "<p>891 rows × 12 columns</p>\n",
       "</div>"
      ],
      "text/plain": [
       "     PassengerId  Survived  Pclass  ...     Fare Cabin  Embarked\n",
       "0              1         0       3  ...   7.2500   NaN         S\n",
       "1              2         1       1  ...  71.2833   C85         C\n",
       "2              3         1       3  ...   7.9250   NaN         S\n",
       "3              4         1       1  ...  53.1000  C123         S\n",
       "4              5         0       3  ...   8.0500   NaN         S\n",
       "..           ...       ...     ...  ...      ...   ...       ...\n",
       "886          887         0       2  ...  13.0000   NaN         S\n",
       "887          888         1       1  ...  30.0000   B42         S\n",
       "888          889         0       3  ...  23.4500   NaN         S\n",
       "889          890         1       1  ...  30.0000  C148         C\n",
       "890          891         0       3  ...   7.7500   NaN         Q\n",
       "\n",
       "[891 rows x 12 columns]"
      ]
     },
     "execution_count": 10,
     "metadata": {
      "tags": []
     },
     "output_type": "execute_result"
    }
   ],
   "source": [
    "kdf = pd.read_csv('/content/titanic/train.csv')\n",
    "kdf"
   ]
  },
  {
   "cell_type": "markdown",
   "metadata": {
    "id": "gCMNIaOFsGTw"
   },
   "source": [
    "### Mount drive and load local data"
   ]
  },
  {
   "cell_type": "code",
   "execution_count": 11,
   "metadata": {
    "colab": {
     "base_uri": "https://localhost:8080/"
    },
    "id": "o7zsMQ7WsJfK",
    "outputId": "b2445b85-c97c-43a4-91b5-ba4e08d60deb"
   },
   "outputs": [
    {
     "name": "stdout",
     "output_type": "stream",
     "text": [
      "Mounted at /content/drive\n"
     ]
    }
   ],
   "source": [
    "from google.colab import drive\n",
    "drive.mount('/content/drive')"
   ]
  },
  {
   "cell_type": "code",
   "execution_count": 12,
   "metadata": {
    "colab": {
     "base_uri": "https://localhost:8080/",
     "height": 223
    },
    "id": "CU1vyu_mssCO",
    "outputId": "7923965b-088e-45ad-cd3c-65e39767b531"
   },
   "outputs": [
    {
     "data": {
      "text/html": [
       "<div>\n",
       "<style scoped>\n",
       "    .dataframe tbody tr th:only-of-type {\n",
       "        vertical-align: middle;\n",
       "    }\n",
       "\n",
       "    .dataframe tbody tr th {\n",
       "        vertical-align: top;\n",
       "    }\n",
       "\n",
       "    .dataframe thead th {\n",
       "        text-align: right;\n",
       "    }\n",
       "</style>\n",
       "<table border=\"1\" class=\"dataframe\">\n",
       "  <thead>\n",
       "    <tr style=\"text-align: right;\">\n",
       "      <th></th>\n",
       "      <th>0</th>\n",
       "      <th>1</th>\n",
       "      <th>2</th>\n",
       "      <th>3</th>\n",
       "      <th>4</th>\n",
       "      <th>5</th>\n",
       "      <th>6</th>\n",
       "      <th>7</th>\n",
       "      <th>8</th>\n",
       "      <th>9</th>\n",
       "      <th>10</th>\n",
       "      <th>11</th>\n",
       "      <th>12</th>\n",
       "      <th>13</th>\n",
       "      <th>14</th>\n",
       "      <th>15</th>\n",
       "      <th>16</th>\n",
       "      <th>17</th>\n",
       "      <th>18</th>\n",
       "      <th>19</th>\n",
       "      <th>20</th>\n",
       "      <th>21</th>\n",
       "      <th>22</th>\n",
       "      <th>23</th>\n",
       "      <th>24</th>\n",
       "      <th>25</th>\n",
       "      <th>26</th>\n",
       "      <th>27</th>\n",
       "      <th>28</th>\n",
       "      <th>29</th>\n",
       "      <th>class</th>\n",
       "    </tr>\n",
       "  </thead>\n",
       "  <tbody>\n",
       "    <tr>\n",
       "      <th>0</th>\n",
       "      <td>-507.188232</td>\n",
       "      <td>115.508881</td>\n",
       "      <td>-0.499709</td>\n",
       "      <td>7.246369</td>\n",
       "      <td>-11.980804</td>\n",
       "      <td>-2.610638</td>\n",
       "      <td>5.634995</td>\n",
       "      <td>-1.005566</td>\n",
       "      <td>-1.521611</td>\n",
       "      <td>-5.084385</td>\n",
       "      <td>-8.843759</td>\n",
       "      <td>-9.365443</td>\n",
       "      <td>-5.832166</td>\n",
       "      <td>-8.097772</td>\n",
       "      <td>-3.982676</td>\n",
       "      <td>-6.642050</td>\n",
       "      <td>-6.367625</td>\n",
       "      <td>-3.288658</td>\n",
       "      <td>-3.019945</td>\n",
       "      <td>-0.069291</td>\n",
       "      <td>-3.993271</td>\n",
       "      <td>-2.627541</td>\n",
       "      <td>-8.679294</td>\n",
       "      <td>-2.963506</td>\n",
       "      <td>-2.603368</td>\n",
       "      <td>-5.309595</td>\n",
       "      <td>-1.650177</td>\n",
       "      <td>-0.540385</td>\n",
       "      <td>-4.737616</td>\n",
       "      <td>-5.110260</td>\n",
       "      <td>आम</td>\n",
       "    </tr>\n",
       "    <tr>\n",
       "      <th>1</th>\n",
       "      <td>-504.667755</td>\n",
       "      <td>67.896660</td>\n",
       "      <td>-8.077479</td>\n",
       "      <td>-18.570694</td>\n",
       "      <td>-20.610073</td>\n",
       "      <td>-6.828909</td>\n",
       "      <td>-12.515812</td>\n",
       "      <td>-15.207339</td>\n",
       "      <td>-18.417042</td>\n",
       "      <td>-4.054206</td>\n",
       "      <td>-3.019321</td>\n",
       "      <td>-2.306941</td>\n",
       "      <td>-1.204430</td>\n",
       "      <td>-5.889398</td>\n",
       "      <td>-6.287278</td>\n",
       "      <td>-4.060507</td>\n",
       "      <td>-4.522434</td>\n",
       "      <td>-5.259367</td>\n",
       "      <td>-6.529147</td>\n",
       "      <td>-7.048288</td>\n",
       "      <td>-3.959103</td>\n",
       "      <td>0.307011</td>\n",
       "      <td>4.597691</td>\n",
       "      <td>6.639877</td>\n",
       "      <td>0.819773</td>\n",
       "      <td>1.052410</td>\n",
       "      <td>-1.950500</td>\n",
       "      <td>-1.188512</td>\n",
       "      <td>1.422675</td>\n",
       "      <td>-0.993730</td>\n",
       "      <td>आम</td>\n",
       "    </tr>\n",
       "    <tr>\n",
       "      <th>2</th>\n",
       "      <td>-374.015472</td>\n",
       "      <td>69.507240</td>\n",
       "      <td>-44.598995</td>\n",
       "      <td>-16.835154</td>\n",
       "      <td>0.641032</td>\n",
       "      <td>15.351396</td>\n",
       "      <td>0.349061</td>\n",
       "      <td>-3.373458</td>\n",
       "      <td>-0.213868</td>\n",
       "      <td>-0.665561</td>\n",
       "      <td>-3.132827</td>\n",
       "      <td>-6.220978</td>\n",
       "      <td>-15.634122</td>\n",
       "      <td>-1.630352</td>\n",
       "      <td>-10.707984</td>\n",
       "      <td>-1.961689</td>\n",
       "      <td>-11.771651</td>\n",
       "      <td>-11.954151</td>\n",
       "      <td>-7.621152</td>\n",
       "      <td>-3.167565</td>\n",
       "      <td>-11.925715</td>\n",
       "      <td>-6.564661</td>\n",
       "      <td>-7.444835</td>\n",
       "      <td>-6.765705</td>\n",
       "      <td>-3.133401</td>\n",
       "      <td>1.420028</td>\n",
       "      <td>4.863281</td>\n",
       "      <td>-0.576264</td>\n",
       "      <td>-4.217253</td>\n",
       "      <td>0.798838</td>\n",
       "      <td>आम</td>\n",
       "    </tr>\n",
       "    <tr>\n",
       "      <th>3</th>\n",
       "      <td>-567.320007</td>\n",
       "      <td>74.504440</td>\n",
       "      <td>3.016104</td>\n",
       "      <td>3.740675</td>\n",
       "      <td>-18.232983</td>\n",
       "      <td>-0.406203</td>\n",
       "      <td>-1.748108</td>\n",
       "      <td>-6.890533</td>\n",
       "      <td>-6.685743</td>\n",
       "      <td>-10.151044</td>\n",
       "      <td>-8.497346</td>\n",
       "      <td>-4.559126</td>\n",
       "      <td>-3.343148</td>\n",
       "      <td>-4.826756</td>\n",
       "      <td>-3.145653</td>\n",
       "      <td>-8.170454</td>\n",
       "      <td>-3.441782</td>\n",
       "      <td>-2.634800</td>\n",
       "      <td>-5.146445</td>\n",
       "      <td>0.136067</td>\n",
       "      <td>-1.544928</td>\n",
       "      <td>-2.612456</td>\n",
       "      <td>-2.007368</td>\n",
       "      <td>-0.536509</td>\n",
       "      <td>-1.493566</td>\n",
       "      <td>-0.918124</td>\n",
       "      <td>-0.194929</td>\n",
       "      <td>-0.960487</td>\n",
       "      <td>-1.867280</td>\n",
       "      <td>-1.706182</td>\n",
       "      <td>आम</td>\n",
       "    </tr>\n",
       "    <tr>\n",
       "      <th>4</th>\n",
       "      <td>-578.482422</td>\n",
       "      <td>86.136101</td>\n",
       "      <td>4.080464</td>\n",
       "      <td>2.431802</td>\n",
       "      <td>-11.221806</td>\n",
       "      <td>-2.585104</td>\n",
       "      <td>13.638548</td>\n",
       "      <td>-1.920223</td>\n",
       "      <td>-5.192510</td>\n",
       "      <td>3.386254</td>\n",
       "      <td>-6.666082</td>\n",
       "      <td>-7.636463</td>\n",
       "      <td>-1.070016</td>\n",
       "      <td>-3.838017</td>\n",
       "      <td>-7.632255</td>\n",
       "      <td>-7.105994</td>\n",
       "      <td>0.406878</td>\n",
       "      <td>-2.369344</td>\n",
       "      <td>-3.760860</td>\n",
       "      <td>-1.749110</td>\n",
       "      <td>-4.363394</td>\n",
       "      <td>-3.073128</td>\n",
       "      <td>-3.603078</td>\n",
       "      <td>-0.214251</td>\n",
       "      <td>-1.814012</td>\n",
       "      <td>-4.508536</td>\n",
       "      <td>-1.034538</td>\n",
       "      <td>-1.728061</td>\n",
       "      <td>-2.596040</td>\n",
       "      <td>-2.900922</td>\n",
       "      <td>आम</td>\n",
       "    </tr>\n",
       "  </tbody>\n",
       "</table>\n",
       "</div>"
      ],
      "text/plain": [
       "            0           1          2  ...        28        29  class\n",
       "0 -507.188232  115.508881  -0.499709  ... -4.737616 -5.110260     आम\n",
       "1 -504.667755   67.896660  -8.077479  ...  1.422675 -0.993730     आम\n",
       "2 -374.015472   69.507240 -44.598995  ... -4.217253  0.798838     आम\n",
       "3 -567.320007   74.504440   3.016104  ... -1.867280 -1.706182     आम\n",
       "4 -578.482422   86.136101   4.080464  ... -2.596040 -2.900922     आम\n",
       "\n",
       "[5 rows x 31 columns]"
      ]
     },
     "execution_count": 12,
     "metadata": {
      "tags": []
     },
     "output_type": "execute_result"
    }
   ],
   "source": [
    "df = pd.read_csv('/content/drive/MyDrive/Deep Learning/Datasets/Preprocessed Audio MFCC.csv')\n",
    "df.head()"
   ]
  },
  {
   "cell_type": "markdown",
   "metadata": {
    "id": "U7ayRYums_ld"
   },
   "source": [
    "This dataset above was extracted by preprocessing audio data which we collected for a project in Winter Semester 2020-21to work on a speech recognition project. We prefer not to share the dataset as such to protect the privacy of our donors who have helped build the dataset. This dataset contains 30 Mel Frequency Cepstral Coefficient Means useful for predicting 10 words."
   ]
  },
  {
   "cell_type": "markdown",
   "metadata": {
    "id": "RlB92mtato0G"
   },
   "source": [
    "## Google Drive features and functionalities"
   ]
  },
  {
   "cell_type": "markdown",
   "metadata": {
    "id": "EGag0_DzuPLr"
   },
   "source": [
    "### Install libraries using pip"
   ]
  },
  {
   "cell_type": "code",
   "execution_count": 13,
   "metadata": {
    "colab": {
     "base_uri": "https://localhost:8080/"
    },
    "id": "TXhi7ssYtk12",
    "outputId": "d722cd5e-0114-4cfc-ba87-ca3004a6650f"
   },
   "outputs": [
    {
     "name": "stdout",
     "output_type": "stream",
     "text": [
      "Requirement already satisfied: tensorflow in /usr/local/lib/python3.7/dist-packages (2.5.0)\n",
      "Requirement already satisfied: tensorflow-estimator<2.6.0,>=2.5.0rc0 in /usr/local/lib/python3.7/dist-packages (from tensorflow) (2.5.0)\n",
      "Requirement already satisfied: typing-extensions~=3.7.4 in /usr/local/lib/python3.7/dist-packages (from tensorflow) (3.7.4.3)\n",
      "Requirement already satisfied: wrapt~=1.12.1 in /usr/local/lib/python3.7/dist-packages (from tensorflow) (1.12.1)\n",
      "Requirement already satisfied: numpy~=1.19.2 in /usr/local/lib/python3.7/dist-packages (from tensorflow) (1.19.5)\n",
      "Requirement already satisfied: six~=1.15.0 in /usr/local/lib/python3.7/dist-packages (from tensorflow) (1.15.0)\n",
      "Requirement already satisfied: absl-py~=0.10 in /usr/local/lib/python3.7/dist-packages (from tensorflow) (0.12.0)\n",
      "Requirement already satisfied: flatbuffers~=1.12.0 in /usr/local/lib/python3.7/dist-packages (from tensorflow) (1.12)\n",
      "Requirement already satisfied: tensorboard~=2.5 in /usr/local/lib/python3.7/dist-packages (from tensorflow) (2.5.0)\n",
      "Requirement already satisfied: termcolor~=1.1.0 in /usr/local/lib/python3.7/dist-packages (from tensorflow) (1.1.0)\n",
      "Requirement already satisfied: astunparse~=1.6.3 in /usr/local/lib/python3.7/dist-packages (from tensorflow) (1.6.3)\n",
      "Requirement already satisfied: gast==0.4.0 in /usr/local/lib/python3.7/dist-packages (from tensorflow) (0.4.0)\n",
      "Requirement already satisfied: google-pasta~=0.2 in /usr/local/lib/python3.7/dist-packages (from tensorflow) (0.2.0)\n",
      "Requirement already satisfied: grpcio~=1.34.0 in /usr/local/lib/python3.7/dist-packages (from tensorflow) (1.34.1)\n",
      "Requirement already satisfied: keras-preprocessing~=1.1.2 in /usr/local/lib/python3.7/dist-packages (from tensorflow) (1.1.2)\n",
      "Requirement already satisfied: h5py~=3.1.0 in /usr/local/lib/python3.7/dist-packages (from tensorflow) (3.1.0)\n",
      "Requirement already satisfied: protobuf>=3.9.2 in /usr/local/lib/python3.7/dist-packages (from tensorflow) (3.17.3)\n",
      "Requirement already satisfied: wheel~=0.35 in /usr/local/lib/python3.7/dist-packages (from tensorflow) (0.37.0)\n",
      "Requirement already satisfied: keras-nightly~=2.5.0.dev in /usr/local/lib/python3.7/dist-packages (from tensorflow) (2.5.0.dev2021032900)\n",
      "Requirement already satisfied: opt-einsum~=3.3.0 in /usr/local/lib/python3.7/dist-packages (from tensorflow) (3.3.0)\n",
      "Requirement already satisfied: cached-property in /usr/local/lib/python3.7/dist-packages (from h5py~=3.1.0->tensorflow) (1.5.2)\n",
      "Requirement already satisfied: requests<3,>=2.21.0 in /usr/local/lib/python3.7/dist-packages (from tensorboard~=2.5->tensorflow) (2.23.0)\n",
      "Requirement already satisfied: werkzeug>=0.11.15 in /usr/local/lib/python3.7/dist-packages (from tensorboard~=2.5->tensorflow) (1.0.1)\n",
      "Requirement already satisfied: google-auth<2,>=1.6.3 in /usr/local/lib/python3.7/dist-packages (from tensorboard~=2.5->tensorflow) (1.34.0)\n",
      "Requirement already satisfied: google-auth-oauthlib<0.5,>=0.4.1 in /usr/local/lib/python3.7/dist-packages (from tensorboard~=2.5->tensorflow) (0.4.5)\n",
      "Requirement already satisfied: markdown>=2.6.8 in /usr/local/lib/python3.7/dist-packages (from tensorboard~=2.5->tensorflow) (3.3.4)\n",
      "Requirement already satisfied: setuptools>=41.0.0 in /usr/local/lib/python3.7/dist-packages (from tensorboard~=2.5->tensorflow) (57.4.0)\n",
      "Requirement already satisfied: tensorboard-plugin-wit>=1.6.0 in /usr/local/lib/python3.7/dist-packages (from tensorboard~=2.5->tensorflow) (1.8.0)\n",
      "Requirement already satisfied: tensorboard-data-server<0.7.0,>=0.6.0 in /usr/local/lib/python3.7/dist-packages (from tensorboard~=2.5->tensorflow) (0.6.1)\n",
      "Requirement already satisfied: rsa<5,>=3.1.4 in /usr/local/lib/python3.7/dist-packages (from google-auth<2,>=1.6.3->tensorboard~=2.5->tensorflow) (4.7.2)\n",
      "Requirement already satisfied: pyasn1-modules>=0.2.1 in /usr/local/lib/python3.7/dist-packages (from google-auth<2,>=1.6.3->tensorboard~=2.5->tensorflow) (0.2.8)\n",
      "Requirement already satisfied: cachetools<5.0,>=2.0.0 in /usr/local/lib/python3.7/dist-packages (from google-auth<2,>=1.6.3->tensorboard~=2.5->tensorflow) (4.2.2)\n",
      "Requirement already satisfied: requests-oauthlib>=0.7.0 in /usr/local/lib/python3.7/dist-packages (from google-auth-oauthlib<0.5,>=0.4.1->tensorboard~=2.5->tensorflow) (1.3.0)\n",
      "Requirement already satisfied: importlib-metadata in /usr/local/lib/python3.7/dist-packages (from markdown>=2.6.8->tensorboard~=2.5->tensorflow) (4.6.3)\n",
      "Requirement already satisfied: pyasn1<0.5.0,>=0.4.6 in /usr/local/lib/python3.7/dist-packages (from pyasn1-modules>=0.2.1->google-auth<2,>=1.6.3->tensorboard~=2.5->tensorflow) (0.4.8)\n",
      "Requirement already satisfied: idna<3,>=2.5 in /usr/local/lib/python3.7/dist-packages (from requests<3,>=2.21.0->tensorboard~=2.5->tensorflow) (2.10)\n",
      "Requirement already satisfied: chardet<4,>=3.0.2 in /usr/local/lib/python3.7/dist-packages (from requests<3,>=2.21.0->tensorboard~=2.5->tensorflow) (3.0.4)\n",
      "Requirement already satisfied: certifi>=2017.4.17 in /usr/local/lib/python3.7/dist-packages (from requests<3,>=2.21.0->tensorboard~=2.5->tensorflow) (2021.5.30)\n",
      "Requirement already satisfied: urllib3!=1.25.0,!=1.25.1,<1.26,>=1.21.1 in /usr/local/lib/python3.7/dist-packages (from requests<3,>=2.21.0->tensorboard~=2.5->tensorflow) (1.24.3)\n",
      "Requirement already satisfied: oauthlib>=3.0.0 in /usr/local/lib/python3.7/dist-packages (from requests-oauthlib>=0.7.0->google-auth-oauthlib<0.5,>=0.4.1->tensorboard~=2.5->tensorflow) (3.1.1)\n",
      "Requirement already satisfied: zipp>=0.5 in /usr/local/lib/python3.7/dist-packages (from importlib-metadata->markdown>=2.6.8->tensorboard~=2.5->tensorflow) (3.5.0)\n"
     ]
    }
   ],
   "source": [
    "!pip install tensorflow"
   ]
  },
  {
   "cell_type": "markdown",
   "metadata": {
    "id": "ikI8OxxGuTvy"
   },
   "source": [
    "### Run a Neural Network on MNIST dataset\n",
    "\n",
    "Reference: https://neptune.ai/blog/how-to-use-google-colab-for-deep-learning-complete-tutorial"
   ]
  },
  {
   "cell_type": "markdown",
   "metadata": {
    "id": "_XPr10YXz_p7"
   },
   "source": [
    "#### Loading MNIST dataset and exploring"
   ]
  },
  {
   "cell_type": "code",
   "execution_count": 14,
   "metadata": {
    "colab": {
     "base_uri": "https://localhost:8080/"
    },
    "id": "UFdPhItiuJyx",
    "outputId": "c6f34d31-7439-4ddd-c556-b25376c9c956"
   },
   "outputs": [
    {
     "name": "stdout",
     "output_type": "stream",
     "text": [
      "Downloading data from https://storage.googleapis.com/tensorflow/tf-keras-datasets/mnist.npz\n",
      "11493376/11490434 [==============================] - 0s 0us/step\n"
     ]
    }
   ],
   "source": [
    "import tensorflow as tf\n",
    "\n",
    "# load mnist dataset with default splitting defined by tensorflow\n",
    "mnist = tf.keras.datasets.mnist\n",
    "(xtr, ytr), (xts, yts) = mnist.load_data()\n",
    "\n",
    "# normalising train and test values\n",
    "xtr, xts = xtr/255.0  , xts/255.0"
   ]
  },
  {
   "cell_type": "code",
   "execution_count": 15,
   "metadata": {
    "colab": {
     "base_uri": "https://localhost:8080/"
    },
    "id": "_g67dCIPumGg",
    "outputId": "326ec4aa-a9c6-422c-8506-4d0ff9a5918c"
   },
   "outputs": [
    {
     "data": {
      "text/plain": [
       "array([[0.        , 0.        , 0.        , 0.        , 0.        ,\n",
       "        0.        , 0.        , 0.        , 0.        , 0.        ,\n",
       "        0.        , 0.        , 0.01176471, 0.07058824, 0.07058824,\n",
       "        0.07058824, 0.49411765, 0.53333333, 0.68627451, 0.10196078,\n",
       "        0.65098039, 1.        , 0.96862745, 0.49803922, 0.        ,\n",
       "        0.        , 0.        , 0.        ],\n",
       "       [0.        , 0.        , 0.        , 0.        , 0.        ,\n",
       "        0.        , 0.        , 0.        , 0.11764706, 0.14117647,\n",
       "        0.36862745, 0.60392157, 0.66666667, 0.99215686, 0.99215686,\n",
       "        0.99215686, 0.99215686, 0.99215686, 0.88235294, 0.6745098 ,\n",
       "        0.99215686, 0.94901961, 0.76470588, 0.25098039, 0.        ,\n",
       "        0.        , 0.        , 0.        ],\n",
       "       [0.        , 0.        , 0.        , 0.        , 0.        ,\n",
       "        0.        , 0.        , 0.19215686, 0.93333333, 0.99215686,\n",
       "        0.99215686, 0.99215686, 0.99215686, 0.99215686, 0.99215686,\n",
       "        0.99215686, 0.99215686, 0.98431373, 0.36470588, 0.32156863,\n",
       "        0.32156863, 0.21960784, 0.15294118, 0.        , 0.        ,\n",
       "        0.        , 0.        , 0.        ]])"
      ]
     },
     "execution_count": 15,
     "metadata": {
      "tags": []
     },
     "output_type": "execute_result"
    }
   ],
   "source": [
    "xtr[0][5:8]"
   ]
  },
  {
   "cell_type": "code",
   "execution_count": 16,
   "metadata": {
    "colab": {
     "base_uri": "https://localhost:8080/"
    },
    "id": "EB7U13vGvRyk",
    "outputId": "9ca1bdfe-15c1-43c7-807d-b57c3983a4d3"
   },
   "outputs": [
    {
     "data": {
      "text/plain": [
       "array([[0.        , 0.        , 0.        , 0.        , 0.        ,\n",
       "        0.        , 0.        , 0.        , 0.        , 0.        ,\n",
       "        0.        , 0.        , 0.        , 0.        , 0.        ,\n",
       "        0.        , 0.        , 0.        , 0.        , 0.        ,\n",
       "        0.        , 0.        , 0.        , 0.        , 0.        ,\n",
       "        0.        , 0.        , 0.        ],\n",
       "       [0.        , 0.        , 0.        , 0.        , 0.        ,\n",
       "        0.        , 0.        , 0.        , 0.        , 0.        ,\n",
       "        0.        , 0.        , 0.        , 0.        , 0.        ,\n",
       "        0.        , 0.        , 0.        , 0.        , 0.        ,\n",
       "        0.        , 0.        , 0.        , 0.        , 0.        ,\n",
       "        0.        , 0.        , 0.        ],\n",
       "       [0.        , 0.        , 0.        , 0.        , 0.        ,\n",
       "        0.        , 0.32941176, 0.7254902 , 0.62352941, 0.59215686,\n",
       "        0.23529412, 0.14117647, 0.        , 0.        , 0.        ,\n",
       "        0.        , 0.        , 0.        , 0.        , 0.        ,\n",
       "        0.        , 0.        , 0.        , 0.        , 0.        ,\n",
       "        0.        , 0.        , 0.        ]])"
      ]
     },
     "execution_count": 16,
     "metadata": {
      "tags": []
     },
     "output_type": "execute_result"
    }
   ],
   "source": [
    "xts[0][5:8]"
   ]
  },
  {
   "cell_type": "code",
   "execution_count": 17,
   "metadata": {
    "id": "MnInLWf_vTu2"
   },
   "outputs": [],
   "source": [
    "import matplotlib.pyplot as plt"
   ]
  },
  {
   "cell_type": "code",
   "execution_count": 18,
   "metadata": {
    "colab": {
     "base_uri": "https://localhost:8080/",
     "height": 0
    },
    "id": "EgMw2P1KvahQ",
    "outputId": "da2bbee9-22c5-4c74-9964-60b6047acefe"
   },
   "outputs": [
    {
     "data": {
      "text/plain": [
       "<matplotlib.image.AxesImage at 0x7f7f785527d0>"
      ]
     },
     "execution_count": 18,
     "metadata": {
      "tags": []
     },
     "output_type": "execute_result"
    },
    {
     "data": {
      "image/png": "[encoded data removed]",
      "text/plain": [
       "<Figure size 432x288 with 1 Axes>"
      ]
     },
     "metadata": {
      "needs_background": "light",
      "tags": []
     },
     "output_type": "display_data"
    }
   ],
   "source": [
    "plt.imshow(xtr[0])"
   ]
  },
  {
   "cell_type": "markdown",
   "metadata": {
    "id": "moFGGkTY0KLv"
   },
   "source": [
    "#### Model Creation"
   ]
  },
  {
   "cell_type": "code",
   "execution_count": 19,
   "metadata": {
    "id": "xL7p08gDvhJi"
   },
   "outputs": [],
   "source": [
    "# define layers and nodes in model\n",
    "model = tf.keras.models.Sequential([\n",
    "                                    tf.keras.layers.Flatten(input_shape=(28, 28)),\n",
    "                                    tf.keras.layers.Dense(128, activation='relu'),\n",
    "                                    tf.keras.layers.Dropout(0.4),\n",
    "                                    tf.keras.layers.Dense(10)\n",
    "])\n",
    "\n",
    "# define loss function\n",
    "loss_fn = tf.keras.losses.SparseCategoricalCrossentropy(from_logits=True)\n",
    "\n",
    "# Save and compile model\n",
    "model.compile(optimizer='adam', loss=loss_fn, metrics=['accuracy'])"
   ]
  },
  {
   "cell_type": "code",
   "execution_count": 20,
   "metadata": {
    "id": "nA8BJy4wxe33"
   },
   "outputs": [],
   "source": [
    "deepmodel = tf.keras.models.Sequential([\n",
    "                                    tf.keras.layers.Flatten(input_shape=(28, 28)),\n",
    "                                    tf.keras.layers.Dense(64, activation='relu'),\n",
    "                                    tf.keras.layers.Dropout(0.2),\n",
    "                                    tf.keras.layers.Dense(128, activation='relu'),\n",
    "                                    tf.keras.layers.Dropout(0.4),\n",
    "                                    tf.keras.layers.Dense(64, activation='relu'),\n",
    "                                    tf.keras.layers.Dropout(0.2),\n",
    "                                    tf.keras.layers.Dense(10)\n",
    "])\n",
    "\n",
    "# Save and compile model\n",
    "deepmodel.compile(optimizer='adam', loss=loss_fn, metrics=['accuracy'])"
   ]
  },
  {
   "cell_type": "markdown",
   "metadata": {
    "id": "PUVD9BCRzn23"
   },
   "source": [
    "#### Running on CPU"
   ]
  },
  {
   "cell_type": "code",
   "execution_count": 21,
   "metadata": {
    "colab": {
     "base_uri": "https://localhost:8080/"
    },
    "id": "j06NOzhtyBQy",
    "outputId": "25618277-7dfe-4799-b51d-b9e981b67943"
   },
   "outputs": [
    {
     "name": "stdout",
     "output_type": "stream",
     "text": [
      "Epoch 1/10\n",
      "1875/1875 [==============================] - 4s 2ms/step - loss: 0.3552 - accuracy: 0.8945\n",
      "Epoch 2/10\n",
      "1875/1875 [==============================] - 4s 2ms/step - loss: 0.1910 - accuracy: 0.9428\n",
      "Epoch 3/10\n",
      "1875/1875 [==============================] - 4s 2ms/step - loss: 0.1521 - accuracy: 0.9544\n",
      "Epoch 4/10\n",
      "1875/1875 [==============================] - 4s 2ms/step - loss: 0.1318 - accuracy: 0.9603\n",
      "Epoch 5/10\n",
      "1875/1875 [==============================] - 4s 2ms/step - loss: 0.1167 - accuracy: 0.9637\n",
      "Epoch 6/10\n",
      "1875/1875 [==============================] - 4s 2ms/step - loss: 0.1084 - accuracy: 0.9663\n",
      "Epoch 7/10\n",
      "1875/1875 [==============================] - 4s 2ms/step - loss: 0.1003 - accuracy: 0.9689\n",
      "Epoch 8/10\n",
      "1875/1875 [==============================] - 4s 2ms/step - loss: 0.0929 - accuracy: 0.9703\n",
      "Epoch 9/10\n",
      "1875/1875 [==============================] - 4s 2ms/step - loss: 0.0878 - accuracy: 0.9719\n",
      "Epoch 10/10\n",
      "1875/1875 [==============================] - 4s 2ms/step - loss: 0.0844 - accuracy: 0.9724\n"
     ]
    },
    {
     "data": {
      "text/plain": [
       "<tensorflow.python.keras.callbacks.History at 0x7f7f73fb6c10>"
      ]
     },
     "execution_count": 21,
     "metadata": {
      "tags": []
     },
     "output_type": "execute_result"
    }
   ],
   "source": [
    "model.fit(xtr, ytr, epochs=10)"
   ]
  },
  {
   "cell_type": "code",
   "execution_count": 22,
   "metadata": {
    "colab": {
     "base_uri": "https://localhost:8080/"
    },
    "id": "40UXcz3rylIJ",
    "outputId": "ea1cdcbd-dedf-410b-a216-8c5cd3c5d30d"
   },
   "outputs": [
    {
     "name": "stdout",
     "output_type": "stream",
     "text": [
      "Epoch 1/10\n",
      "1875/1875 [==============================] - 4s 2ms/step - loss: 0.4578 - accuracy: 0.8608\n",
      "Epoch 2/10\n",
      "1875/1875 [==============================] - 4s 2ms/step - loss: 0.2354 - accuracy: 0.9316\n",
      "Epoch 3/10\n",
      "1875/1875 [==============================] - 4s 2ms/step - loss: 0.1918 - accuracy: 0.9445\n",
      "Epoch 4/10\n",
      "1875/1875 [==============================] - 4s 2ms/step - loss: 0.1702 - accuracy: 0.9508\n",
      "Epoch 5/10\n",
      "1875/1875 [==============================] - 4s 2ms/step - loss: 0.1555 - accuracy: 0.9538\n",
      "Epoch 6/10\n",
      "1875/1875 [==============================] - 4s 2ms/step - loss: 0.1444 - accuracy: 0.9580\n",
      "Epoch 7/10\n",
      "1875/1875 [==============================] - 4s 2ms/step - loss: 0.1373 - accuracy: 0.9600\n",
      "Epoch 8/10\n",
      "1875/1875 [==============================] - 4s 2ms/step - loss: 0.1314 - accuracy: 0.9605\n",
      "Epoch 9/10\n",
      "1875/1875 [==============================] - 4s 2ms/step - loss: 0.1211 - accuracy: 0.9635\n",
      "Epoch 10/10\n",
      "1875/1875 [==============================] - 4s 2ms/step - loss: 0.1200 - accuracy: 0.9650\n"
     ]
    },
    {
     "data": {
      "text/plain": [
       "<tensorflow.python.keras.callbacks.History at 0x7f7f790c8b10>"
      ]
     },
     "execution_count": 22,
     "metadata": {
      "tags": []
     },
     "output_type": "execute_result"
    }
   ],
   "source": [
    "deepmodel.fit(xtr, ytr, epochs=10)"
   ]
  },
  {
   "cell_type": "markdown",
   "metadata": {
    "id": "5I4_5vnNzrka"
   },
   "source": [
    "#### Running on GPU"
   ]
  },
  {
   "cell_type": "code",
   "execution_count": 23,
   "metadata": {
    "colab": {
     "base_uri": "https://localhost:8080/"
    },
    "id": "CTY33L6LyqLB",
    "outputId": "d3261112-c1a1-47c9-db56-91a633abef9f"
   },
   "outputs": [
    {
     "name": "stdout",
     "output_type": "stream",
     "text": [
      "Epoch 1/10\n",
      "1875/1875 [==============================] - 4s 2ms/step - loss: 0.0804 - accuracy: 0.9747\n",
      "Epoch 2/10\n",
      "1875/1875 [==============================] - 4s 2ms/step - loss: 0.0774 - accuracy: 0.9748\n",
      "Epoch 3/10\n",
      "1875/1875 [==============================] - 4s 2ms/step - loss: 0.0749 - accuracy: 0.9758\n",
      "Epoch 4/10\n",
      "1875/1875 [==============================] - 4s 2ms/step - loss: 0.0712 - accuracy: 0.9756\n",
      "Epoch 5/10\n",
      "1875/1875 [==============================] - 4s 2ms/step - loss: 0.0697 - accuracy: 0.9770\n",
      "Epoch 6/10\n",
      "1875/1875 [==============================] - 4s 2ms/step - loss: 0.0680 - accuracy: 0.9776\n",
      "Epoch 7/10\n",
      "1875/1875 [==============================] - 4s 2ms/step - loss: 0.0646 - accuracy: 0.9785\n",
      "Epoch 8/10\n",
      "1875/1875 [==============================] - 4s 2ms/step - loss: 0.0640 - accuracy: 0.9789\n",
      "Epoch 9/10\n",
      "1875/1875 [==============================] - 4s 2ms/step - loss: 0.0620 - accuracy: 0.9794\n",
      "Epoch 10/10\n",
      "1875/1875 [==============================] - 4s 2ms/step - loss: 0.0599 - accuracy: 0.9804\n"
     ]
    },
    {
     "data": {
      "text/plain": [
       "<tensorflow.python.keras.callbacks.History at 0x7f7f70f67d50>"
      ]
     },
     "execution_count": 23,
     "metadata": {
      "tags": []
     },
     "output_type": "execute_result"
    }
   ],
   "source": [
    "model.fit(xtr, ytr, epochs=10)"
   ]
  },
  {
   "cell_type": "markdown",
   "metadata": {
    "id": "Xe3MdFNhzuJX"
   },
   "source": [
    "#### Running on TPU"
   ]
  },
  {
   "cell_type": "code",
   "execution_count": 24,
   "metadata": {
    "colab": {
     "base_uri": "https://localhost:8080/"
    },
    "id": "uc5NePflzNHm",
    "outputId": "de4ce212-bd14-4bbc-d23e-e17294322967"
   },
   "outputs": [
    {
     "name": "stdout",
     "output_type": "stream",
     "text": [
      "Epoch 1/10\n",
      "1875/1875 [==============================] - 4s 2ms/step - loss: 0.0613 - accuracy: 0.9798\n",
      "Epoch 2/10\n",
      "1875/1875 [==============================] - 4s 2ms/step - loss: 0.0576 - accuracy: 0.9804\n",
      "Epoch 3/10\n",
      "1875/1875 [==============================] - 4s 2ms/step - loss: 0.0561 - accuracy: 0.9812\n",
      "Epoch 4/10\n",
      "1875/1875 [==============================] - 4s 2ms/step - loss: 0.0567 - accuracy: 0.9808\n",
      "Epoch 5/10\n",
      "1875/1875 [==============================] - 4s 2ms/step - loss: 0.0530 - accuracy: 0.9819\n",
      "Epoch 6/10\n",
      "1875/1875 [==============================] - 4s 2ms/step - loss: 0.0545 - accuracy: 0.9820\n",
      "Epoch 7/10\n",
      "1875/1875 [==============================] - 4s 2ms/step - loss: 0.0530 - accuracy: 0.9821\n",
      "Epoch 8/10\n",
      "1875/1875 [==============================] - 4s 2ms/step - loss: 0.0500 - accuracy: 0.9833\n",
      "Epoch 9/10\n",
      "1875/1875 [==============================] - 4s 2ms/step - loss: 0.0519 - accuracy: 0.9821\n",
      "Epoch 10/10\n",
      "1875/1875 [==============================] - 4s 2ms/step - loss: 0.0489 - accuracy: 0.9836\n"
     ]
    },
    {
     "data": {
      "text/plain": [
       "<tensorflow.python.keras.callbacks.History at 0x7f7f70f95950>"
      ]
     },
     "execution_count": 24,
     "metadata": {
      "tags": []
     },
     "output_type": "execute_result"
    }
   ],
   "source": [
    "model.fit(xtr, ytr, epochs=10)"
   ]
  },
  {
   "cell_type": "markdown",
   "metadata": {
    "id": "xzsD4GnX0odi"
   },
   "source": [
    "## Neural Networks Practice"
   ]
  },
  {
   "cell_type": "markdown",
   "metadata": {
    "id": "zJPyGmZ-0-Zo"
   },
   "source": [
    "We have already imported the dataset above as 'df' let us move forward with it."
   ]
  },
  {
   "cell_type": "code",
   "execution_count": 25,
   "metadata": {
    "colab": {
     "base_uri": "https://localhost:8080/",
     "height": 223
    },
    "id": "haLno-Vl0Umy",
    "outputId": "72dc7f3b-fbb4-450c-ce36-2efc43d124d9"
   },
   "outputs": [
    {
     "data": {
      "text/html": [
       "<div>\n",
       "<style scoped>\n",
       "    .dataframe tbody tr th:only-of-type {\n",
       "        vertical-align: middle;\n",
       "    }\n",
       "\n",
       "    .dataframe tbody tr th {\n",
       "        vertical-align: top;\n",
       "    }\n",
       "\n",
       "    .dataframe thead th {\n",
       "        text-align: right;\n",
       "    }\n",
       "</style>\n",
       "<table border=\"1\" class=\"dataframe\">\n",
       "  <thead>\n",
       "    <tr style=\"text-align: right;\">\n",
       "      <th></th>\n",
       "      <th>0</th>\n",
       "      <th>1</th>\n",
       "      <th>2</th>\n",
       "      <th>3</th>\n",
       "      <th>4</th>\n",
       "      <th>5</th>\n",
       "      <th>6</th>\n",
       "      <th>7</th>\n",
       "      <th>8</th>\n",
       "      <th>9</th>\n",
       "      <th>10</th>\n",
       "      <th>11</th>\n",
       "      <th>12</th>\n",
       "      <th>13</th>\n",
       "      <th>14</th>\n",
       "      <th>15</th>\n",
       "      <th>16</th>\n",
       "      <th>17</th>\n",
       "      <th>18</th>\n",
       "      <th>19</th>\n",
       "      <th>20</th>\n",
       "      <th>21</th>\n",
       "      <th>22</th>\n",
       "      <th>23</th>\n",
       "      <th>24</th>\n",
       "      <th>25</th>\n",
       "      <th>26</th>\n",
       "      <th>27</th>\n",
       "      <th>28</th>\n",
       "      <th>29</th>\n",
       "      <th>class</th>\n",
       "    </tr>\n",
       "  </thead>\n",
       "  <tbody>\n",
       "    <tr>\n",
       "      <th>0</th>\n",
       "      <td>-507.188232</td>\n",
       "      <td>115.508881</td>\n",
       "      <td>-0.499709</td>\n",
       "      <td>7.246369</td>\n",
       "      <td>-11.980804</td>\n",
       "      <td>-2.610638</td>\n",
       "      <td>5.634995</td>\n",
       "      <td>-1.005566</td>\n",
       "      <td>-1.521611</td>\n",
       "      <td>-5.084385</td>\n",
       "      <td>-8.843759</td>\n",
       "      <td>-9.365443</td>\n",
       "      <td>-5.832166</td>\n",
       "      <td>-8.097772</td>\n",
       "      <td>-3.982676</td>\n",
       "      <td>-6.642050</td>\n",
       "      <td>-6.367625</td>\n",
       "      <td>-3.288658</td>\n",
       "      <td>-3.019945</td>\n",
       "      <td>-0.069291</td>\n",
       "      <td>-3.993271</td>\n",
       "      <td>-2.627541</td>\n",
       "      <td>-8.679294</td>\n",
       "      <td>-2.963506</td>\n",
       "      <td>-2.603368</td>\n",
       "      <td>-5.309595</td>\n",
       "      <td>-1.650177</td>\n",
       "      <td>-0.540385</td>\n",
       "      <td>-4.737616</td>\n",
       "      <td>-5.110260</td>\n",
       "      <td>आम</td>\n",
       "    </tr>\n",
       "    <tr>\n",
       "      <th>1</th>\n",
       "      <td>-504.667755</td>\n",
       "      <td>67.896660</td>\n",
       "      <td>-8.077479</td>\n",
       "      <td>-18.570694</td>\n",
       "      <td>-20.610073</td>\n",
       "      <td>-6.828909</td>\n",
       "      <td>-12.515812</td>\n",
       "      <td>-15.207339</td>\n",
       "      <td>-18.417042</td>\n",
       "      <td>-4.054206</td>\n",
       "      <td>-3.019321</td>\n",
       "      <td>-2.306941</td>\n",
       "      <td>-1.204430</td>\n",
       "      <td>-5.889398</td>\n",
       "      <td>-6.287278</td>\n",
       "      <td>-4.060507</td>\n",
       "      <td>-4.522434</td>\n",
       "      <td>-5.259367</td>\n",
       "      <td>-6.529147</td>\n",
       "      <td>-7.048288</td>\n",
       "      <td>-3.959103</td>\n",
       "      <td>0.307011</td>\n",
       "      <td>4.597691</td>\n",
       "      <td>6.639877</td>\n",
       "      <td>0.819773</td>\n",
       "      <td>1.052410</td>\n",
       "      <td>-1.950500</td>\n",
       "      <td>-1.188512</td>\n",
       "      <td>1.422675</td>\n",
       "      <td>-0.993730</td>\n",
       "      <td>आम</td>\n",
       "    </tr>\n",
       "    <tr>\n",
       "      <th>2</th>\n",
       "      <td>-374.015472</td>\n",
       "      <td>69.507240</td>\n",
       "      <td>-44.598995</td>\n",
       "      <td>-16.835154</td>\n",
       "      <td>0.641032</td>\n",
       "      <td>15.351396</td>\n",
       "      <td>0.349061</td>\n",
       "      <td>-3.373458</td>\n",
       "      <td>-0.213868</td>\n",
       "      <td>-0.665561</td>\n",
       "      <td>-3.132827</td>\n",
       "      <td>-6.220978</td>\n",
       "      <td>-15.634122</td>\n",
       "      <td>-1.630352</td>\n",
       "      <td>-10.707984</td>\n",
       "      <td>-1.961689</td>\n",
       "      <td>-11.771651</td>\n",
       "      <td>-11.954151</td>\n",
       "      <td>-7.621152</td>\n",
       "      <td>-3.167565</td>\n",
       "      <td>-11.925715</td>\n",
       "      <td>-6.564661</td>\n",
       "      <td>-7.444835</td>\n",
       "      <td>-6.765705</td>\n",
       "      <td>-3.133401</td>\n",
       "      <td>1.420028</td>\n",
       "      <td>4.863281</td>\n",
       "      <td>-0.576264</td>\n",
       "      <td>-4.217253</td>\n",
       "      <td>0.798838</td>\n",
       "      <td>आम</td>\n",
       "    </tr>\n",
       "    <tr>\n",
       "      <th>3</th>\n",
       "      <td>-567.320007</td>\n",
       "      <td>74.504440</td>\n",
       "      <td>3.016104</td>\n",
       "      <td>3.740675</td>\n",
       "      <td>-18.232983</td>\n",
       "      <td>-0.406203</td>\n",
       "      <td>-1.748108</td>\n",
       "      <td>-6.890533</td>\n",
       "      <td>-6.685743</td>\n",
       "      <td>-10.151044</td>\n",
       "      <td>-8.497346</td>\n",
       "      <td>-4.559126</td>\n",
       "      <td>-3.343148</td>\n",
       "      <td>-4.826756</td>\n",
       "      <td>-3.145653</td>\n",
       "      <td>-8.170454</td>\n",
       "      <td>-3.441782</td>\n",
       "      <td>-2.634800</td>\n",
       "      <td>-5.146445</td>\n",
       "      <td>0.136067</td>\n",
       "      <td>-1.544928</td>\n",
       "      <td>-2.612456</td>\n",
       "      <td>-2.007368</td>\n",
       "      <td>-0.536509</td>\n",
       "      <td>-1.493566</td>\n",
       "      <td>-0.918124</td>\n",
       "      <td>-0.194929</td>\n",
       "      <td>-0.960487</td>\n",
       "      <td>-1.867280</td>\n",
       "      <td>-1.706182</td>\n",
       "      <td>आम</td>\n",
       "    </tr>\n",
       "    <tr>\n",
       "      <th>4</th>\n",
       "      <td>-578.482422</td>\n",
       "      <td>86.136101</td>\n",
       "      <td>4.080464</td>\n",
       "      <td>2.431802</td>\n",
       "      <td>-11.221806</td>\n",
       "      <td>-2.585104</td>\n",
       "      <td>13.638548</td>\n",
       "      <td>-1.920223</td>\n",
       "      <td>-5.192510</td>\n",
       "      <td>3.386254</td>\n",
       "      <td>-6.666082</td>\n",
       "      <td>-7.636463</td>\n",
       "      <td>-1.070016</td>\n",
       "      <td>-3.838017</td>\n",
       "      <td>-7.632255</td>\n",
       "      <td>-7.105994</td>\n",
       "      <td>0.406878</td>\n",
       "      <td>-2.369344</td>\n",
       "      <td>-3.760860</td>\n",
       "      <td>-1.749110</td>\n",
       "      <td>-4.363394</td>\n",
       "      <td>-3.073128</td>\n",
       "      <td>-3.603078</td>\n",
       "      <td>-0.214251</td>\n",
       "      <td>-1.814012</td>\n",
       "      <td>-4.508536</td>\n",
       "      <td>-1.034538</td>\n",
       "      <td>-1.728061</td>\n",
       "      <td>-2.596040</td>\n",
       "      <td>-2.900922</td>\n",
       "      <td>आम</td>\n",
       "    </tr>\n",
       "  </tbody>\n",
       "</table>\n",
       "</div>"
      ],
      "text/plain": [
       "            0           1          2  ...        28        29  class\n",
       "0 -507.188232  115.508881  -0.499709  ... -4.737616 -5.110260     आम\n",
       "1 -504.667755   67.896660  -8.077479  ...  1.422675 -0.993730     आम\n",
       "2 -374.015472   69.507240 -44.598995  ... -4.217253  0.798838     आम\n",
       "3 -567.320007   74.504440   3.016104  ... -1.867280 -1.706182     आम\n",
       "4 -578.482422   86.136101   4.080464  ... -2.596040 -2.900922     आम\n",
       "\n",
       "[5 rows x 31 columns]"
      ]
     },
     "execution_count": 25,
     "metadata": {
      "tags": []
     },
     "output_type": "execute_result"
    }
   ],
   "source": [
    "df.head()"
   ]
  },
  {
   "cell_type": "code",
   "execution_count": 26,
   "metadata": {
    "colab": {
     "base_uri": "https://localhost:8080/"
    },
    "id": "0MspiEkf1m8A",
    "outputId": "c40d93a3-2566-4b81-a2b1-b8d8d03d1783"
   },
   "outputs": [
    {
     "data": {
      "text/plain": [
       "(1046, 31)"
      ]
     },
     "execution_count": 26,
     "metadata": {
      "tags": []
     },
     "output_type": "execute_result"
    }
   ],
   "source": [
    "df.shape"
   ]
  },
  {
   "cell_type": "markdown",
   "metadata": {
    "id": "-sQkBKKy2YOf"
   },
   "source": [
    "#### Splitting data into train, validate and test"
   ]
  },
  {
   "cell_type": "code",
   "execution_count": 27,
   "metadata": {
    "id": "77-AtJ6W1qCr"
   },
   "outputs": [],
   "source": [
    "from sklearn.model_selection import train_test_split as tts"
   ]
  },
  {
   "cell_type": "code",
   "execution_count": 28,
   "metadata": {
    "id": "jWbBJvsH100P"
   },
   "outputs": [],
   "source": [
    "x = df.drop(columns=['class'])\n",
    "y = df['class']\n",
    "num_labels = len(y.unique())\n",
    "y = np.array(pd.get_dummies(y))"
   ]
  },
  {
   "cell_type": "code",
   "execution_count": 29,
   "metadata": {
    "colab": {
     "base_uri": "https://localhost:8080/"
    },
    "id": "guevJAvi4ZVA",
    "outputId": "bb3aed8b-bd65-4f63-f7ef-3ad37ad8c8b0"
   },
   "outputs": [
    {
     "data": {
      "text/plain": [
       "10"
      ]
     },
     "execution_count": 29,
     "metadata": {
      "tags": []
     },
     "output_type": "execute_result"
    }
   ],
   "source": [
    "num_labels"
   ]
  },
  {
   "cell_type": "code",
   "execution_count": 30,
   "metadata": {
    "id": "0ZU5d53U17VD"
   },
   "outputs": [],
   "source": [
    "xt, xts, yt, yts = tts(x, y, stratify=y)"
   ]
  },
  {
   "cell_type": "code",
   "execution_count": 31,
   "metadata": {
    "id": "iVsPaRX52FZw"
   },
   "outputs": [],
   "source": [
    "xtr, xv, ytr, yv = tts(xt, yt, stratify=yt)"
   ]
  },
  {
   "cell_type": "code",
   "execution_count": 32,
   "metadata": {
    "colab": {
     "base_uri": "https://localhost:8080/"
    },
    "id": "HphV5ewG3Xrm",
    "outputId": "3be90893-51a9-4d74-ef88-7009a489b6b7"
   },
   "outputs": [
    {
     "data": {
      "text/plain": [
       "(588, 30)"
      ]
     },
     "execution_count": 32,
     "metadata": {
      "tags": []
     },
     "output_type": "execute_result"
    }
   ],
   "source": [
    "xtr.shape"
   ]
  },
  {
   "cell_type": "markdown",
   "metadata": {
    "id": "oJNQOcBr2fX2"
   },
   "source": [
    "#### Model Creation"
   ]
  },
  {
   "cell_type": "code",
   "execution_count": 33,
   "metadata": {
    "id": "8-JpLWPK1Hvt"
   },
   "outputs": [],
   "source": [
    "model = tf.keras.models.Sequential()\n",
    "model.add(tf.keras.layers.Dense(xtr.shape[1], input_shape=(xtr.shape[1],)))\n",
    "model.add(tf.keras.layers.Dense(xtr.shape[1]**2, activation='relu'))\n",
    "model.add(tf.keras.layers.Dense(num_labels, activation='sigmoid'))\n",
    "\n",
    "loss_fn = tf.keras.losses.CategoricalCrossentropy()\n",
    "\n",
    "model.compile(optimizer='adam', loss=loss_fn, metrics=['accuracy'])"
   ]
  },
  {
   "cell_type": "code",
   "execution_count": 34,
   "metadata": {
    "colab": {
     "base_uri": "https://localhost:8080/"
    },
    "id": "vS6qyYCS48_a",
    "outputId": "42e955cc-ea3a-4998-a58e-41cf8f1a3c64"
   },
   "outputs": [
    {
     "name": "stdout",
     "output_type": "stream",
     "text": [
      "Epoch 1/100\n",
      "19/19 [==============================] - 0s 2ms/step - loss: 23.2612 - accuracy: 0.0969\n",
      "Epoch 2/100\n",
      "19/19 [==============================] - 0s 2ms/step - loss: 7.2235 - accuracy: 0.1310\n",
      "Epoch 3/100\n",
      "19/19 [==============================] - 0s 3ms/step - loss: 4.7966 - accuracy: 0.0986\n",
      "Epoch 4/100\n",
      "19/19 [==============================] - 0s 2ms/step - loss: 3.7921 - accuracy: 0.1395\n",
      "Epoch 5/100\n",
      "19/19 [==============================] - 0s 2ms/step - loss: 3.2579 - accuracy: 0.1650\n",
      "Epoch 6/100\n",
      "19/19 [==============================] - 0s 3ms/step - loss: 3.1808 - accuracy: 0.1905\n",
      "Epoch 7/100\n",
      "19/19 [==============================] - 0s 2ms/step - loss: 4.0103 - accuracy: 0.1701\n",
      "Epoch 8/100\n",
      "19/19 [==============================] - 0s 3ms/step - loss: 3.7260 - accuracy: 0.1565\n",
      "Epoch 9/100\n",
      "19/19 [==============================] - 0s 2ms/step - loss: 3.6813 - accuracy: 0.1480\n",
      "Epoch 10/100\n",
      "19/19 [==============================] - 0s 2ms/step - loss: 3.8228 - accuracy: 0.1599\n",
      "Epoch 11/100\n",
      "19/19 [==============================] - 0s 3ms/step - loss: 3.4996 - accuracy: 0.1565\n",
      "Epoch 12/100\n",
      "19/19 [==============================] - 0s 2ms/step - loss: 2.8263 - accuracy: 0.1871\n",
      "Epoch 13/100\n",
      "19/19 [==============================] - 0s 2ms/step - loss: 2.8456 - accuracy: 0.1871\n",
      "Epoch 14/100\n",
      "19/19 [==============================] - 0s 2ms/step - loss: 2.6121 - accuracy: 0.2126\n",
      "Epoch 15/100\n",
      "19/19 [==============================] - 0s 2ms/step - loss: 2.9307 - accuracy: 0.2177\n",
      "Epoch 16/100\n",
      "19/19 [==============================] - 0s 2ms/step - loss: 3.6142 - accuracy: 0.1803\n",
      "Epoch 17/100\n",
      "19/19 [==============================] - 0s 2ms/step - loss: 3.0017 - accuracy: 0.2109\n",
      "Epoch 18/100\n",
      "19/19 [==============================] - 0s 2ms/step - loss: 2.7264 - accuracy: 0.2228\n",
      "Epoch 19/100\n",
      "19/19 [==============================] - 0s 2ms/step - loss: 2.4543 - accuracy: 0.2517\n",
      "Epoch 20/100\n",
      "19/19 [==============================] - 0s 2ms/step - loss: 2.9154 - accuracy: 0.2126\n",
      "Epoch 21/100\n",
      "19/19 [==============================] - 0s 2ms/step - loss: 2.5891 - accuracy: 0.2551\n",
      "Epoch 22/100\n",
      "19/19 [==============================] - 0s 2ms/step - loss: 2.4565 - accuracy: 0.2194\n",
      "Epoch 23/100\n",
      "19/19 [==============================] - 0s 2ms/step - loss: 2.3211 - accuracy: 0.2738\n",
      "Epoch 24/100\n",
      "19/19 [==============================] - 0s 2ms/step - loss: 3.2090 - accuracy: 0.2109\n",
      "Epoch 25/100\n",
      "19/19 [==============================] - 0s 2ms/step - loss: 3.1680 - accuracy: 0.2313\n",
      "Epoch 26/100\n",
      "19/19 [==============================] - 0s 2ms/step - loss: 2.8575 - accuracy: 0.2432\n",
      "Epoch 27/100\n",
      "19/19 [==============================] - 0s 2ms/step - loss: 2.5196 - accuracy: 0.2619\n",
      "Epoch 28/100\n",
      "19/19 [==============================] - 0s 2ms/step - loss: 2.5016 - accuracy: 0.2636\n",
      "Epoch 29/100\n",
      "19/19 [==============================] - 0s 2ms/step - loss: 2.6199 - accuracy: 0.2466\n",
      "Epoch 30/100\n",
      "19/19 [==============================] - 0s 2ms/step - loss: 2.9379 - accuracy: 0.2347\n",
      "Epoch 31/100\n",
      "19/19 [==============================] - 0s 3ms/step - loss: 2.5331 - accuracy: 0.2738\n",
      "Epoch 32/100\n",
      "19/19 [==============================] - 0s 2ms/step - loss: 3.1456 - accuracy: 0.2534\n",
      "Epoch 33/100\n",
      "19/19 [==============================] - 0s 2ms/step - loss: 3.0971 - accuracy: 0.2415\n",
      "Epoch 34/100\n",
      "19/19 [==============================] - 0s 2ms/step - loss: 2.7200 - accuracy: 0.2449\n",
      "Epoch 35/100\n",
      "19/19 [==============================] - 0s 2ms/step - loss: 2.8562 - accuracy: 0.2687\n",
      "Epoch 36/100\n",
      "19/19 [==============================] - 0s 2ms/step - loss: 2.5225 - accuracy: 0.2534\n",
      "Epoch 37/100\n",
      "19/19 [==============================] - 0s 2ms/step - loss: 2.5754 - accuracy: 0.2823\n",
      "Epoch 38/100\n",
      "19/19 [==============================] - 0s 2ms/step - loss: 2.2427 - accuracy: 0.2806\n",
      "Epoch 39/100\n",
      "19/19 [==============================] - 0s 2ms/step - loss: 2.0555 - accuracy: 0.3180\n",
      "Epoch 40/100\n",
      "19/19 [==============================] - 0s 3ms/step - loss: 2.3647 - accuracy: 0.2976\n",
      "Epoch 41/100\n",
      "19/19 [==============================] - 0s 2ms/step - loss: 2.3809 - accuracy: 0.2925\n",
      "Epoch 42/100\n",
      "19/19 [==============================] - 0s 2ms/step - loss: 2.4518 - accuracy: 0.2806\n",
      "Epoch 43/100\n",
      "19/19 [==============================] - 0s 2ms/step - loss: 2.4155 - accuracy: 0.2653\n",
      "Epoch 44/100\n",
      "19/19 [==============================] - 0s 2ms/step - loss: 2.0313 - accuracy: 0.3350\n",
      "Epoch 45/100\n",
      "19/19 [==============================] - 0s 2ms/step - loss: 2.0321 - accuracy: 0.3537\n",
      "Epoch 46/100\n",
      "19/19 [==============================] - 0s 2ms/step - loss: 2.0774 - accuracy: 0.3248\n",
      "Epoch 47/100\n",
      "19/19 [==============================] - 0s 2ms/step - loss: 2.2879 - accuracy: 0.2942\n",
      "Epoch 48/100\n",
      "19/19 [==============================] - 0s 2ms/step - loss: 2.4398 - accuracy: 0.2585\n",
      "Epoch 49/100\n",
      "19/19 [==============================] - 0s 2ms/step - loss: 2.2270 - accuracy: 0.2976\n",
      "Epoch 50/100\n",
      "19/19 [==============================] - 0s 2ms/step - loss: 2.3795 - accuracy: 0.3112\n",
      "Epoch 51/100\n",
      "19/19 [==============================] - 0s 2ms/step - loss: 2.4208 - accuracy: 0.2721\n",
      "Epoch 52/100\n",
      "19/19 [==============================] - 0s 2ms/step - loss: 2.0861 - accuracy: 0.3418\n",
      "Epoch 53/100\n",
      "19/19 [==============================] - 0s 2ms/step - loss: 2.0142 - accuracy: 0.3197\n",
      "Epoch 54/100\n",
      "19/19 [==============================] - 0s 2ms/step - loss: 2.2994 - accuracy: 0.3316\n",
      "Epoch 55/100\n",
      "19/19 [==============================] - 0s 2ms/step - loss: 2.2087 - accuracy: 0.3044\n",
      "Epoch 56/100\n",
      "19/19 [==============================] - 0s 3ms/step - loss: 2.1127 - accuracy: 0.3231\n",
      "Epoch 57/100\n",
      "19/19 [==============================] - 0s 2ms/step - loss: 1.8822 - accuracy: 0.3418\n",
      "Epoch 58/100\n",
      "19/19 [==============================] - 0s 2ms/step - loss: 2.1521 - accuracy: 0.3333\n",
      "Epoch 59/100\n",
      "19/19 [==============================] - 0s 2ms/step - loss: 2.0007 - accuracy: 0.3231\n",
      "Epoch 60/100\n",
      "19/19 [==============================] - 0s 2ms/step - loss: 2.0004 - accuracy: 0.3248\n",
      "Epoch 61/100\n",
      "19/19 [==============================] - 0s 2ms/step - loss: 2.0628 - accuracy: 0.3299\n",
      "Epoch 62/100\n",
      "19/19 [==============================] - 0s 2ms/step - loss: 2.1363 - accuracy: 0.3316\n",
      "Epoch 63/100\n",
      "19/19 [==============================] - 0s 2ms/step - loss: 1.9523 - accuracy: 0.3656\n",
      "Epoch 64/100\n",
      "19/19 [==============================] - 0s 2ms/step - loss: 1.8939 - accuracy: 0.3435\n",
      "Epoch 65/100\n",
      "19/19 [==============================] - 0s 2ms/step - loss: 1.8872 - accuracy: 0.3759\n",
      "Epoch 66/100\n",
      "19/19 [==============================] - 0s 2ms/step - loss: 1.9210 - accuracy: 0.3690\n",
      "Epoch 67/100\n",
      "19/19 [==============================] - 0s 3ms/step - loss: 1.7737 - accuracy: 0.4099\n",
      "Epoch 68/100\n",
      "19/19 [==============================] - 0s 2ms/step - loss: 1.8893 - accuracy: 0.3690\n",
      "Epoch 69/100\n",
      "19/19 [==============================] - 0s 2ms/step - loss: 1.8402 - accuracy: 0.3793\n",
      "Epoch 70/100\n",
      "19/19 [==============================] - 0s 2ms/step - loss: 1.7574 - accuracy: 0.4014\n",
      "Epoch 71/100\n",
      "19/19 [==============================] - 0s 2ms/step - loss: 1.8041 - accuracy: 0.3980\n",
      "Epoch 72/100\n",
      "19/19 [==============================] - 0s 2ms/step - loss: 1.8593 - accuracy: 0.3707\n",
      "Epoch 73/100\n",
      "19/19 [==============================] - 0s 2ms/step - loss: 1.8031 - accuracy: 0.3912\n",
      "Epoch 74/100\n",
      "19/19 [==============================] - 0s 2ms/step - loss: 1.8333 - accuracy: 0.4065\n",
      "Epoch 75/100\n",
      "19/19 [==============================] - 0s 2ms/step - loss: 1.8837 - accuracy: 0.3571\n",
      "Epoch 76/100\n",
      "19/19 [==============================] - 0s 3ms/step - loss: 1.6599 - accuracy: 0.4218\n",
      "Epoch 77/100\n",
      "19/19 [==============================] - 0s 2ms/step - loss: 1.8586 - accuracy: 0.3793\n",
      "Epoch 78/100\n",
      "19/19 [==============================] - 0s 2ms/step - loss: 1.6820 - accuracy: 0.4303\n",
      "Epoch 79/100\n",
      "19/19 [==============================] - 0s 2ms/step - loss: 1.5773 - accuracy: 0.4558\n",
      "Epoch 80/100\n",
      "19/19 [==============================] - 0s 2ms/step - loss: 1.5723 - accuracy: 0.4337\n",
      "Epoch 81/100\n",
      "19/19 [==============================] - 0s 2ms/step - loss: 1.5696 - accuracy: 0.4745\n",
      "Epoch 82/100\n",
      "19/19 [==============================] - 0s 2ms/step - loss: 1.4627 - accuracy: 0.4677\n",
      "Epoch 83/100\n",
      "19/19 [==============================] - 0s 2ms/step - loss: 1.5264 - accuracy: 0.4728\n",
      "Epoch 84/100\n",
      "19/19 [==============================] - 0s 2ms/step - loss: 1.5595 - accuracy: 0.4779\n",
      "Epoch 85/100\n",
      "19/19 [==============================] - 0s 2ms/step - loss: 1.6079 - accuracy: 0.4337\n",
      "Epoch 86/100\n",
      "19/19 [==============================] - 0s 3ms/step - loss: 1.5688 - accuracy: 0.4677\n",
      "Epoch 87/100\n",
      "19/19 [==============================] - 0s 2ms/step - loss: 1.5476 - accuracy: 0.4626\n",
      "Epoch 88/100\n",
      "19/19 [==============================] - 0s 2ms/step - loss: 1.5836 - accuracy: 0.4779\n",
      "Epoch 89/100\n",
      "19/19 [==============================] - 0s 2ms/step - loss: 1.6817 - accuracy: 0.4252\n",
      "Epoch 90/100\n",
      "19/19 [==============================] - 0s 2ms/step - loss: 1.7485 - accuracy: 0.4235\n",
      "Epoch 91/100\n",
      "19/19 [==============================] - 0s 2ms/step - loss: 1.5502 - accuracy: 0.4728\n",
      "Epoch 92/100\n",
      "19/19 [==============================] - 0s 2ms/step - loss: 1.6063 - accuracy: 0.4456\n",
      "Epoch 93/100\n",
      "19/19 [==============================] - 0s 2ms/step - loss: 1.5663 - accuracy: 0.4558\n",
      "Epoch 94/100\n",
      "19/19 [==============================] - 0s 2ms/step - loss: 1.4143 - accuracy: 0.5187\n",
      "Epoch 95/100\n",
      "19/19 [==============================] - 0s 2ms/step - loss: 1.5131 - accuracy: 0.5034\n",
      "Epoch 96/100\n",
      "19/19 [==============================] - 0s 3ms/step - loss: 1.5402 - accuracy: 0.4711\n",
      "Epoch 97/100\n",
      "19/19 [==============================] - 0s 3ms/step - loss: 1.4388 - accuracy: 0.5221\n",
      "Epoch 98/100\n",
      "19/19 [==============================] - 0s 2ms/step - loss: 1.3982 - accuracy: 0.5136\n",
      "Epoch 99/100\n",
      "19/19 [==============================] - 0s 2ms/step - loss: 1.4384 - accuracy: 0.5221\n",
      "Epoch 100/100\n",
      "19/19 [==============================] - 0s 2ms/step - loss: 1.5917 - accuracy: 0.4847\n"
     ]
    },
    {
     "data": {
      "text/plain": [
       "<tensorflow.python.keras.callbacks.History at 0x7f7f69327bd0>"
      ]
     },
     "execution_count": 34,
     "metadata": {
      "tags": []
     },
     "output_type": "execute_result"
    }
   ],
   "source": [
    "model.fit(xtr, ytr, epochs=100)"
   ]
  },
  {
   "cell_type": "code",
   "execution_count": 35,
   "metadata": {
    "colab": {
     "base_uri": "https://localhost:8080/"
    },
    "id": "WwcRIJbg5Y6w",
    "outputId": "72056750-2404-42fa-ddac-4d7ca4769d52"
   },
   "outputs": [
    {
     "name": "stdout",
     "output_type": "stream",
     "text": [
      "7/7 - 0s - loss: 3.2050 - accuracy: 0.2449\n"
     ]
    },
    {
     "data": {
      "text/plain": [
       "[3.205003023147583, 0.2448979616165161]"
      ]
     },
     "execution_count": 35,
     "metadata": {
      "tags": []
     },
     "output_type": "execute_result"
    }
   ],
   "source": [
    "model.evaluate(xv, yv, verbose=2)"
   ]
  },
  {
   "cell_type": "code",
   "execution_count": 36,
   "metadata": {
    "colab": {
     "base_uri": "https://localhost:8080/"
    },
    "id": "1HI2JzXre_Hs",
    "outputId": "8c02c969-311a-46b8-e27c-b4a4f498b19b"
   },
   "outputs": [
    {
     "data": {
      "text/plain": [
       "[2.9017374515533447, 0.23664122819900513]"
      ]
     },
     "execution_count": 36,
     "metadata": {
      "tags": []
     },
     "output_type": "execute_result"
    }
   ],
   "source": [
    "real_accuracy=model.evaluate(xts,yts,verbose=0)\n",
    "real_accuracy"
   ]
  },
  {
   "cell_type": "markdown",
   "metadata": {
    "id": "6JJFj3yZfY3J"
   },
   "source": [
    "After training we can say that we get the accuracy of 23.6%"
   ]
  }
 ],
 "metadata": {
  "colab": {
   "collapsed_sections": [
    "9VIqKfn-n_bL",
    "8o06b2p6sBPa",
    "b13SqFL-oY37",
    "gCMNIaOFsGTw",
    "EGag0_DzuPLr",
    "_XPr10YXz_p7",
    "PUVD9BCRzn23",
    "5I4_5vnNzrka",
    "Xe3MdFNhzuJX"
   ],
   "name": "DL Lab 1.ipynb",
   "provenance": []
  },
  "kernelspec": {
   "display_name": "Python 3",
   "language": "python",
   "name": "python3"
  },
  "language_info": {
   "codemirror_mode": {
    "name": "ipython",
    "version": 3
   },
   "file_extension": ".py",
   "mimetype": "text/x-python",
   "name": "python",
   "nbconvert_exporter": "python",
   "pygments_lexer": "ipython3",
   "version": "3.8.5"
  }
 },
 "nbformat": 4,
 "nbformat_minor": 2
}

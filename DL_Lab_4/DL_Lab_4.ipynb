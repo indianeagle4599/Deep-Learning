{
 "cells": [
  {
   "cell_type": "markdown",
   "metadata": {
    "id": "1LeNOFwFX10I"
   },
   "source": [
    "# Deep Learning Lab 4\n",
    "\n",
    "* Import CIFAR10 dataset\n",
    "* Train basic model\n",
    "* Tune model manually\n",
    "* Tune model using keras tuner"
   ]
  },
  {
   "cell_type": "code",
   "execution_count": 1,
   "metadata": {
    "id": "bhn12SGUXyGe"
   },
   "outputs": [],
   "source": [
    "import  tensorflow as tf\n",
    "from tensorflow import keras\n",
    "from tensorflow.keras import datasets, layers, models\n",
    "import matplotlib.pyplot as plt\n",
    "from sklearn.model_selection import train_test_split"
   ]
  },
  {
   "cell_type": "markdown",
   "metadata": {},
   "source": [
    "### Checking GPU"
   ]
  },
  {
   "cell_type": "code",
   "execution_count": 2,
   "metadata": {},
   "outputs": [
    {
     "name": "stdout",
     "output_type": "stream",
     "text": [
      "Num GPUs Available:  1\n"
     ]
    }
   ],
   "source": [
    "print(\"Num GPUs Available: \", len(tf.config.experimental.list_physical_devices('GPU')))"
   ]
  },
  {
   "cell_type": "code",
   "execution_count": 3,
   "metadata": {},
   "outputs": [
    {
     "name": "stdout",
     "output_type": "stream",
     "text": [
      "Found GPU at: /device:GPU:0\n"
     ]
    }
   ],
   "source": [
    "tf.test.gpu_device_name()\n",
    "device_name = tf.test.gpu_device_name()\n",
    "if device_name != '/device:GPU:0':\n",
    "    raise SystemError('GPU device not found')\n",
    "print('Found GPU at: {}'.format(device_name))"
   ]
  },
  {
   "cell_type": "markdown",
   "metadata": {},
   "source": [
    "## Import, split and normalise CIFAR10 dataset"
   ]
  },
  {
   "cell_type": "code",
   "execution_count": 4,
   "metadata": {
    "colab": {
     "base_uri": "https://localhost:8080/"
    },
    "id": "namlJfKxYTwA",
    "outputId": "be529d73-b6f6-4fae-ad8a-e78e1349fc99"
   },
   "outputs": [],
   "source": [
    "(x_t, y_t), (x_test, y_test) = datasets.cifar10.load_data()\n",
    "\n",
    "x_train, x_val, y_train, y_val = train_test_split(x_t, y_t)\n",
    "\n",
    "# Normalizing pixel values\n",
    "x_train, x_val, x_test = x_train / 255.0, x_val / 255.0, x_test / 255.0"
   ]
  },
  {
   "cell_type": "markdown",
   "metadata": {
    "id": "eNvLH0tk-RJA"
   },
   "source": [
    "## Train basic model"
   ]
  },
  {
   "cell_type": "code",
   "execution_count": 5,
   "metadata": {
    "id": "_kK1Sn9bYZdy"
   },
   "outputs": [],
   "source": [
    "model =models.Sequential()\n",
    "model.add(tf.keras.layers.Conv2D(16, (3,3), activation=\"relu\", input_shape=(32,32,3), padding=\"same\"))\n",
    "model.add(tf.keras.layers.Conv2D(32, (3,3), activation=\"relu\", padding=\"same\"))\n",
    "model.add(tf.keras.layers.Flatten())\n",
    "model.add(tf.keras.layers.Dense(64, activation=\"relu\"))\n",
    "model.add(tf.keras.layers.Dense(10))"
   ]
  },
  {
   "cell_type": "code",
   "execution_count": 6,
   "metadata": {
    "id": "kdgC7i5HZAoG"
   },
   "outputs": [],
   "source": [
    "loss_fn = tf.keras.losses.SparseCategoricalCrossentropy(from_logits=True)\n",
    "optimizer_fn = tf.keras.optimizers.Adam(learning_rate=0.001)"
   ]
  },
  {
   "cell_type": "code",
   "execution_count": 7,
   "metadata": {
    "id": "hrKcljNGZYl1"
   },
   "outputs": [],
   "source": [
    "model.compile(optimizer=optimizer_fn,\n",
    "              loss=loss_fn,\n",
    "              metrics=['accuracy'])"
   ]
  },
  {
   "cell_type": "code",
   "execution_count": 8,
   "metadata": {
    "colab": {
     "base_uri": "https://localhost:8080/"
    },
    "id": "_8kI_8nUZQam",
    "outputId": "c477deb5-4906-450d-e9c9-054c4099a502",
    "scrolled": true
   },
   "outputs": [
    {
     "name": "stdout",
     "output_type": "stream",
     "text": [
      "Epoch 1/15\n",
      "1172/1172 [==============================] - 7s 5ms/step - loss: 1.6163 - accuracy: 0.4250 - val_loss: 1.3204 - val_accuracy: 0.5321\n",
      "Epoch 2/15\n",
      "1172/1172 [==============================] - 5s 4ms/step - loss: 1.1281 - accuracy: 0.6063 - val_loss: 1.1202 - val_accuracy: 0.6080\n",
      "Epoch 3/15\n",
      "1172/1172 [==============================] - 5s 4ms/step - loss: 0.9266 - accuracy: 0.6771 - val_loss: 1.1333 - val_accuracy: 0.6122\n",
      "Epoch 4/15\n",
      "1172/1172 [==============================] - 5s 4ms/step - loss: 0.7795 - accuracy: 0.7283 - val_loss: 1.1452 - val_accuracy: 0.6162\n",
      "Epoch 5/15\n",
      "1172/1172 [==============================] - 5s 4ms/step - loss: 0.6339 - accuracy: 0.7788 - val_loss: 1.2489 - val_accuracy: 0.6079\n",
      "Epoch 6/15\n",
      "1172/1172 [==============================] - 5s 4ms/step - loss: 0.4981 - accuracy: 0.8273 - val_loss: 1.3196 - val_accuracy: 0.6128\n",
      "Epoch 7/15\n",
      "1172/1172 [==============================] - 5s 4ms/step - loss: 0.3777 - accuracy: 0.8714 - val_loss: 1.4762 - val_accuracy: 0.6066\n",
      "Epoch 8/15\n",
      "1172/1172 [==============================] - 5s 4ms/step - loss: 0.2823 - accuracy: 0.9024 - val_loss: 1.7311 - val_accuracy: 0.5987\n",
      "Epoch 9/15\n",
      "1172/1172 [==============================] - 5s 4ms/step - loss: 0.2043 - accuracy: 0.9309 - val_loss: 1.9894 - val_accuracy: 0.5934\n",
      "Epoch 10/15\n",
      "1172/1172 [==============================] - 5s 4ms/step - loss: 0.1588 - accuracy: 0.9454 - val_loss: 2.1861 - val_accuracy: 0.5968\n",
      "Epoch 11/15\n",
      "1172/1172 [==============================] - 5s 4ms/step - loss: 0.1332 - accuracy: 0.9549 - val_loss: 2.4902 - val_accuracy: 0.5854\n",
      "Epoch 12/15\n",
      "1172/1172 [==============================] - 5s 4ms/step - loss: 0.1026 - accuracy: 0.9649 - val_loss: 2.7728 - val_accuracy: 0.5907\n",
      "Epoch 13/15\n",
      "1172/1172 [==============================] - 5s 4ms/step - loss: 0.0881 - accuracy: 0.9705 - val_loss: 2.8904 - val_accuracy: 0.5938\n",
      "Epoch 14/15\n",
      "1172/1172 [==============================] - 5s 4ms/step - loss: 0.0932 - accuracy: 0.9677 - val_loss: 3.0393 - val_accuracy: 0.5906\n",
      "Epoch 15/15\n",
      "1172/1172 [==============================] - 5s 4ms/step - loss: 0.0728 - accuracy: 0.9756 - val_loss: 3.1809 - val_accuracy: 0.5815\n"
     ]
    }
   ],
   "source": [
    "history = model.fit(x_train, y_train, validation_data=(x_val, y_val),epochs=15)"
   ]
  },
  {
   "cell_type": "code",
   "execution_count": 9,
   "metadata": {
    "id": "3dAFDYcyZQzm"
   },
   "outputs": [
    {
     "data": {
      "image/png": "[encoded data removed]",
      "text/plain": [
       "<Figure size 720x288 with 2 Axes>"
      ]
     },
     "metadata": {
      "needs_background": "light"
     },
     "output_type": "display_data"
    }
   ],
   "source": [
    "#plot \n",
    "figure= plt.figure(figsize=(10,4))\n",
    "ax = plt.subplot(121)\n",
    "ax.plot(history.history['loss'], 'r', label='train')\n",
    "ax.plot(history.history['val_loss'], 'g', label='val')\n",
    "\n",
    "plt.legend()\n",
    "plt.grid(axis='y')\n",
    "plt.xlabel(\"epoch\")\n",
    "plt.ylabel(\"Loss\")\n",
    "\n",
    "ax2 = plt.subplot(122)\n",
    "ax2.plot(history.history['accuracy'], 'b', label=\"train\")\n",
    "ax2.plot(history.history['val_accuracy'], 'g', label=\"val\")\n",
    "plt.legend()\n",
    "plt.xlabel(\"epoch\")\n",
    "plt.ylabel(\"accuracy\")\n",
    "plt.grid(axis='y')\n",
    "plt.savefig(\"cifar10_training_val_no_dropout\")"
   ]
  },
  {
   "cell_type": "markdown",
   "metadata": {
    "id": "1VCY3g7lq5nL"
   },
   "source": [
    "Looking at the graph we can clearly see that there is a huge amount of overfitting  between train and validation. We must add Pooling and dropouts to reduce the overfitting issue."
   ]
  },
  {
   "cell_type": "markdown",
   "metadata": {},
   "source": [
    "## Tune model manually"
   ]
  },
  {
   "cell_type": "code",
   "execution_count": 10,
   "metadata": {
    "id": "lyi-HWlEZbZC"
   },
   "outputs": [],
   "source": [
    "model2 =models.Sequential()\n",
    "model2.add(tf.keras.layers.Conv2D(16, (3,3), activation=\"relu\", input_shape=(32,32,3), padding=\"same\"))\n",
    "model2.add(tf.keras.layers.MaxPooling2D(2,2))\n",
    "model2.add(tf.keras.layers.Conv2D(32, (3,3), activation=\"relu\", padding=\"same\"))\n",
    "model2.add(tf.keras.layers.MaxPooling2D(4,4))\n",
    "model2.add(tf.keras.layers.Flatten())\n",
    "model2.add(tf.keras.layers.Dropout(0.2))\n",
    "model2.add(tf.keras.layers.Dense(64, activation=\"relu\"))\n",
    "model2.add(tf.keras.layers.Dense(10))\n",
    "\n",
    "optimizer_fn = tf.keras.optimizers.Adam(learning_rate=0.001)\n",
    "\n",
    "model2.compile(optimizer=optimizer_fn,\n",
    "              loss=loss_fn,\n",
    "              metrics=['accuracy'])"
   ]
  },
  {
   "cell_type": "code",
   "execution_count": 11,
   "metadata": {
    "id": "0pYWEkpLalZh",
    "scrolled": true
   },
   "outputs": [
    {
     "name": "stdout",
     "output_type": "stream",
     "text": [
      "Epoch 1/15\n",
      "1172/1172 [==============================] - 5s 4ms/step - loss: 1.6419 - accuracy: 0.4038 - val_loss: 1.3802 - val_accuracy: 0.5037\n",
      "Epoch 2/15\n",
      "1172/1172 [==============================] - 4s 4ms/step - loss: 1.3199 - accuracy: 0.5272 - val_loss: 1.2056 - val_accuracy: 0.5683\n",
      "Epoch 3/15\n",
      "1172/1172 [==============================] - 4s 4ms/step - loss: 1.1979 - accuracy: 0.5766 - val_loss: 1.1583 - val_accuracy: 0.5917\n",
      "Epoch 4/15\n",
      "1172/1172 [==============================] - 4s 4ms/step - loss: 1.1230 - accuracy: 0.6048 - val_loss: 1.0600 - val_accuracy: 0.6273\n",
      "Epoch 5/15\n",
      "1172/1172 [==============================] - 4s 4ms/step - loss: 1.0731 - accuracy: 0.6194 - val_loss: 1.0216 - val_accuracy: 0.6381\n",
      "Epoch 6/15\n",
      "1172/1172 [==============================] - 4s 4ms/step - loss: 1.0362 - accuracy: 0.6349 - val_loss: 1.0339 - val_accuracy: 0.6400\n",
      "Epoch 7/15\n",
      "1172/1172 [==============================] - 4s 3ms/step - loss: 0.9928 - accuracy: 0.6514 - val_loss: 0.9546 - val_accuracy: 0.6653\n",
      "Epoch 8/15\n",
      "1172/1172 [==============================] - 4s 3ms/step - loss: 0.9582 - accuracy: 0.6634 - val_loss: 0.9422 - val_accuracy: 0.6670\n",
      "Epoch 9/15\n",
      "1172/1172 [==============================] - 4s 4ms/step - loss: 0.9362 - accuracy: 0.6721 - val_loss: 0.9544 - val_accuracy: 0.6657\n",
      "Epoch 10/15\n",
      "1172/1172 [==============================] - 4s 4ms/step - loss: 0.9063 - accuracy: 0.6837 - val_loss: 0.9138 - val_accuracy: 0.6742\n",
      "Epoch 11/15\n",
      "1172/1172 [==============================] - 4s 4ms/step - loss: 0.8828 - accuracy: 0.6889 - val_loss: 0.9053 - val_accuracy: 0.6823\n",
      "Epoch 12/15\n",
      "1172/1172 [==============================] - 4s 4ms/step - loss: 0.8645 - accuracy: 0.6956 - val_loss: 0.8988 - val_accuracy: 0.6814\n",
      "Epoch 13/15\n",
      "1172/1172 [==============================] - 4s 4ms/step - loss: 0.8472 - accuracy: 0.7004 - val_loss: 0.8717 - val_accuracy: 0.6918\n",
      "Epoch 14/15\n",
      "1172/1172 [==============================] - 4s 4ms/step - loss: 0.8301 - accuracy: 0.7063 - val_loss: 0.8650 - val_accuracy: 0.6937\n",
      "Epoch 15/15\n",
      "1172/1172 [==============================] - 4s 4ms/step - loss: 0.8154 - accuracy: 0.7143 - val_loss: 0.8667 - val_accuracy: 0.6917\n"
     ]
    }
   ],
   "source": [
    "history = model2.fit(x_train, y_train, validation_data=(x_val, y_val),epochs=15)"
   ]
  },
  {
   "cell_type": "code",
   "execution_count": 12,
   "metadata": {
    "id": "xfrn2ls9aqtg"
   },
   "outputs": [
    {
     "data": {
      "image/png": "[encoded data removed]",
      "text/plain": [
       "<Figure size 720x288 with 2 Axes>"
      ]
     },
     "metadata": {
      "needs_background": "light"
     },
     "output_type": "display_data"
    }
   ],
   "source": [
    "#plot \n",
    "figure= plt.figure(figsize=(10,4))\n",
    "ax = plt.subplot(121)\n",
    "ax.plot(history.history['loss'], 'r', label='train')\n",
    "ax.plot(history.history['val_loss'], 'g', label='val')\n",
    "\n",
    "plt.legend()\n",
    "plt.grid(axis='y')\n",
    "plt.xlabel(\"epoch\")\n",
    "plt.ylabel(\"Loss\")\n",
    "\n",
    "ax2 = plt.subplot(122)\n",
    "ax2.plot(history.history['accuracy'], 'b', label=\"train\")\n",
    "ax2.plot(history.history['val_accuracy'], 'g', label=\"val\")\n",
    "plt.legend()\n",
    "plt.xlabel(\"epoch\")\n",
    "plt.ylabel(\"accuracy\")\n",
    "plt.grid(axis='y')\n",
    "plt.savefig(\"cifar10_training_val_with_dropout\")"
   ]
  },
  {
   "cell_type": "markdown",
   "metadata": {
    "id": "DYnEE8Q8rRD5"
   },
   "source": [
    "We have successfully reduced the overfitting and increased the model's vaildation accuracy considerably but we must still tune the parameters to make sure to have a even higher accuracy."
   ]
  },
  {
   "cell_type": "markdown",
   "metadata": {
    "id": "h81BM6Z4-U0A"
   },
   "source": [
    "## Extensive Hyperparameter Tuning with Keras Tuner"
   ]
  },
  {
   "cell_type": "code",
   "execution_count": 13,
   "metadata": {
    "id": "pLdsEhnFwd6H"
   },
   "outputs": [],
   "source": [
    "from keras_tuner import RandomSearch\n",
    "from keras_tuner.engine.hyperparameters import HyperParameters"
   ]
  },
  {
   "cell_type": "code",
   "execution_count": 14,
   "metadata": {
    "id": "UGoEHx4Fs1c6"
   },
   "outputs": [],
   "source": [
    "def build_model(hp):\n",
    "    model = keras.Sequential([\n",
    "    keras.layers.Conv2D(\n",
    "        filters=hp.Int('Conv_1_filter', min_value=8, max_value=32, step=8),\n",
    "        kernel_size=hp.Choice('Conv_1_kernel', values = [3,5]),\n",
    "        activation='relu',\n",
    "        input_shape=(32,32,3)\n",
    "    ),\n",
    "    keras.layers.Conv2D(\n",
    "        filters=hp.Int('Conv_2_filter', min_value=16, max_value=64, step=16),\n",
    "        kernel_size=hp.Choice('Conv_2_kernel', values = [3,5]),\n",
    "        activation='relu'\n",
    "    ),\n",
    "    keras.layers.MaxPooling2D(pool_size=2),\n",
    "    keras.layers.Dropout(rate=(hp.Float('Dropout_rate_1', min_value=0.0, max_value=0.5, step=0.05))),\n",
    "    keras.layers.Conv2D(\n",
    "        filters=hp.Int('Conv_3_filter', min_value=32, max_value=128, step=32),\n",
    "        kernel_size=hp.Choice('Conv_3_kernel', values = [3,5]),\n",
    "        activation='relu',\n",
    "    ),\n",
    "    keras.layers.Conv2D(\n",
    "        filters=hp.Int('Conv_4_filter', min_value=32, max_value=128, step=32),\n",
    "        kernel_size=hp.Choice('Conv_4_kernel', values = [3,5]),\n",
    "        activation='relu'\n",
    "    ),\n",
    "    keras.layers.MaxPooling2D(pool_size=2),\n",
    "    keras.layers.Dropout(rate=(hp.Float('Dropout_rate_2', min_value=0.0, max_value=0.5, step=0.05))),\n",
    "    keras.layers.Flatten(),\n",
    "    keras.layers.Dense(\n",
    "        units=hp.Int('dense_1_units', min_value=32, max_value=256, step=32),\n",
    "        activation='relu',\n",
    "        kernel_regularizer=keras.regularizers.L1L2(\n",
    "            hp.Float('L1_Regularisation', min_value=0.0, max_value=0.5, step=0.1),\n",
    "            hp.Float('L2_Regularisation', min_value=0.0, max_value=0.1, step=0.05)\n",
    "        )\n",
    "    ),\n",
    "    keras.layers.Dropout(rate=(hp.Float('Dropout_rate_3', min_value=0.0, max_value=0.5, step=0.05))),\n",
    "    keras.layers.Dense(10, activation='softmax')\n",
    "  ])\n",
    "    \n",
    "    model.compile(optimizer=keras.optimizers.Adam(hp.Float(\n",
    "                    'Learning_rate',\n",
    "                    min_value=1e-4,\n",
    "                    max_value=1e-2,\n",
    "                    sampling='LOG',\n",
    "                    default=1e-3\n",
    "                )\n",
    "            ),\n",
    "            loss='sparse_categorical_crossentropy',\n",
    "            metrics=['accuracy'])\n",
    "    \n",
    "    return model"
   ]
  },
  {
   "cell_type": "code",
   "execution_count": 15,
   "metadata": {
    "id": "KHfUWsY-wiAk"
   },
   "outputs": [
    {
     "name": "stdout",
     "output_type": "stream",
     "text": [
      "INFO:tensorflow:Reloading Oracle from existing project output\\CIFAR10 Tuning with regularisation\\oracle.json\n",
      "INFO:tensorflow:Reloading Tuner from output\\CIFAR10 Tuning with regularisation\\tuner0.json\n"
     ]
    }
   ],
   "source": [
    "tuner_search=RandomSearch(build_model,\n",
    "                          objective='val_accuracy',\n",
    "                          max_trials=75,\n",
    "                          directory='output',\n",
    "                          project_name=\"CIFAR10 Tuning with regularisation\")"
   ]
  },
  {
   "cell_type": "code",
   "execution_count": 16,
   "metadata": {
    "id": "zIG__LfVw7qn",
    "scrolled": false
   },
   "outputs": [
    {
     "name": "stdout",
     "output_type": "stream",
     "text": [
      "Trial 25 Complete [00h 02m 03s]\n",
      "val_accuracy: 0.10719999670982361\n",
      "\n",
      "Best val_accuracy So Far: 0.7520800232887268\n",
      "Total elapsed time: 00h 46m 34s\n",
      "INFO:tensorflow:Oracle triggered exit\n"
     ]
    }
   ],
   "source": [
    "tuner_search.search(x_train, y_train, validation_data=(x_val, y_val),epochs=15)"
   ]
  },
  {
   "cell_type": "code",
   "execution_count": 24,
   "metadata": {
    "id": "OAg9k4UKxfd0"
   },
   "outputs": [],
   "source": [
    "bestModel=tuner_search.get_best_models(num_models=1)[0]"
   ]
  },
  {
   "cell_type": "code",
   "execution_count": 25,
   "metadata": {
    "id": "ZLyPFO6yxiJT"
   },
   "outputs": [
    {
     "name": "stdout",
     "output_type": "stream",
     "text": [
      "Model: \"sequential\"\n",
      "_________________________________________________________________\n",
      "Layer (type)                 Output Shape              Param #   \n",
      "=================================================================\n",
      "conv2d (Conv2D)              (None, 30, 30, 24)        672       \n",
      "_________________________________________________________________\n",
      "conv2d_1 (Conv2D)            (None, 26, 26, 32)        19232     \n",
      "_________________________________________________________________\n",
      "max_pooling2d (MaxPooling2D) (None, 13, 13, 32)        0         \n",
      "_________________________________________________________________\n",
      "dropout (Dropout)            (None, 13, 13, 32)        0         \n",
      "_________________________________________________________________\n",
      "conv2d_2 (Conv2D)            (None, 11, 11, 64)        18496     \n",
      "_________________________________________________________________\n",
      "conv2d_3 (Conv2D)            (None, 9, 9, 96)          55392     \n",
      "_________________________________________________________________\n",
      "max_pooling2d_1 (MaxPooling2 (None, 4, 4, 96)          0         \n",
      "_________________________________________________________________\n",
      "dropout_1 (Dropout)          (None, 4, 4, 96)          0         \n",
      "_________________________________________________________________\n",
      "flatten (Flatten)            (None, 1536)              0         \n",
      "_________________________________________________________________\n",
      "dense (Dense)                (None, 224)               344288    \n",
      "_________________________________________________________________\n",
      "dropout_2 (Dropout)          (None, 224)               0         \n",
      "_________________________________________________________________\n",
      "dense_1 (Dense)              (None, 10)                2250      \n",
      "=================================================================\n",
      "Total params: 440,330\n",
      "Trainable params: 440,330\n",
      "Non-trainable params: 0\n",
      "_________________________________________________________________\n"
     ]
    }
   ],
   "source": [
    "bestModel.summary()"
   ]
  },
  {
   "cell_type": "code",
   "execution_count": 26,
   "metadata": {},
   "outputs": [
    {
     "name": "stdout",
     "output_type": "stream",
     "text": [
      "1172/1172 [==============================] - 3s 2ms/step - loss: 0.4614 - accuracy: 0.8464\n"
     ]
    },
    {
     "data": {
      "text/plain": [
       "[0.46136176586151123, 0.8464000225067139]"
      ]
     },
     "execution_count": 26,
     "metadata": {},
     "output_type": "execute_result"
    }
   ],
   "source": [
    "bestModel.evaluate(x_train, y_train)"
   ]
  },
  {
   "cell_type": "code",
   "execution_count": 27,
   "metadata": {},
   "outputs": [
    {
     "name": "stdout",
     "output_type": "stream",
     "text": [
      "391/391 [==============================] - 1s 2ms/step - loss: 0.4692 - accuracy: 0.8449\n"
     ]
    },
    {
     "data": {
      "text/plain": [
       "[0.46918851137161255, 0.8448799848556519]"
      ]
     },
     "execution_count": 27,
     "metadata": {},
     "output_type": "execute_result"
    }
   ],
   "source": [
    "bestModel.evaluate(x_val, y_val)"
   ]
  },
  {
   "cell_type": "code",
   "execution_count": 29,
   "metadata": {},
   "outputs": [
    {
     "name": "stdout",
     "output_type": "stream",
     "text": [
      "INFO:tensorflow:Assets written to: ./regularised\\assets\n"
     ]
    }
   ],
   "source": [
    "bestModel.save('./regularised')"
   ]
  },
  {
   "cell_type": "markdown",
   "metadata": {},
   "source": [
    "## Testing best model"
   ]
  },
  {
   "cell_type": "code",
   "execution_count": 30,
   "metadata": {},
   "outputs": [],
   "source": [
    "saved_bestModel = tf.keras.models.load_model('./regularised')"
   ]
  },
  {
   "cell_type": "code",
   "execution_count": 31,
   "metadata": {},
   "outputs": [
    {
     "name": "stdout",
     "output_type": "stream",
     "text": [
      "313/313 [==============================] - 1s 2ms/step - loss: 0.7412 - accuracy: 0.7497\n"
     ]
    },
    {
     "data": {
      "text/plain": [
       "[0.7411890029907227, 0.7497000098228455]"
      ]
     },
     "execution_count": 31,
     "metadata": {},
     "output_type": "execute_result"
    }
   ],
   "source": [
    "saved_bestModel.evaluate(x_test, y_test)"
   ]
  },
  {
   "cell_type": "markdown",
   "metadata": {},
   "source": [
    "When we check on the test data, we see that the model gives an accuracy of 75% which is still acceptable. We have thus tuned our model to 75% accuracy."
   ]
  },
  {
   "cell_type": "code",
   "execution_count": null,
   "metadata": {},
   "outputs": [],
   "source": []
  }
 ],
 "metadata": {
  "accelerator": "TPU",
  "colab": {
   "name": "DL Lab 4.ipynb",
   "provenance": []
  },
  "kernelspec": {
   "display_name": "Python 3",
   "language": "python",
   "name": "python3"
  },
  "language_info": {
   "codemirror_mode": {
    "name": "ipython",
    "version": 3
   },
   "file_extension": ".py",
   "mimetype": "text/x-python",
   "name": "python",
   "nbconvert_exporter": "python",
   "pygments_lexer": "ipython3",
   "version": "3.8.5"
  }
 },
 "nbformat": 4,
 "nbformat_minor": 1
}

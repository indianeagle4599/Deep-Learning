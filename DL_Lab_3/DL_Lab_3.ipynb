{
 "cells": [
  {
   "cell_type": "markdown",
   "metadata": {
    "id": "qYtGFZvP_oVG"
   },
   "source": [
    "# Deep Learning Lab 3\n",
    "\n",
    "* Mount the drive and load your data.\n",
    "* Create a Neural network to run on your dataset.\n",
    "* Tune the model for best accuracy.\n",
    "* Evaluate and show the results of the model for the dataset."
   ]
  },
  {
   "cell_type": "code",
   "execution_count": 1,
   "metadata": {
    "id": "MQjE18D5oI_h"
   },
   "outputs": [],
   "source": [
    "import numpy as np\n",
    "import pandas as pd"
   ]
  },
  {
   "cell_type": "markdown",
   "metadata": {
    "id": "9VIqKfn-n_bL"
   },
   "source": [
    "## Loading Datasets"
   ]
  },
  {
   "cell_type": "markdown",
   "metadata": {
    "id": "gCMNIaOFsGTw"
   },
   "source": [
    "### Mount drive and load local data"
   ]
  },
  {
   "cell_type": "code",
   "execution_count": 2,
   "metadata": {
    "colab": {
     "base_uri": "https://localhost:8080/"
    },
    "id": "o7zsMQ7WsJfK",
    "outputId": "c880687e-0a0e-445c-b6ae-61a1af008ff6"
   },
   "outputs": [
    {
     "name": "stdout",
     "output_type": "stream",
     "text": [
      "Drive already mounted at /content/drive; to attempt to forcibly remount, call drive.mount(\"/content/drive\", force_remount=True).\n"
     ]
    }
   ],
   "source": [
    "from google.colab import drive\n",
    "drive.mount('/content/drive')"
   ]
  },
  {
   "cell_type": "code",
   "execution_count": 3,
   "metadata": {
    "colab": {
     "base_uri": "https://localhost:8080/",
     "height": 0
    },
    "id": "CU1vyu_mssCO",
    "outputId": "c6432106-c42c-486d-f839-982d0de9c83f"
   },
   "outputs": [
    {
     "data": {
      "text/html": [
       "<div>\n",
       "<style scoped>\n",
       "    .dataframe tbody tr th:only-of-type {\n",
       "        vertical-align: middle;\n",
       "    }\n",
       "\n",
       "    .dataframe tbody tr th {\n",
       "        vertical-align: top;\n",
       "    }\n",
       "\n",
       "    .dataframe thead th {\n",
       "        text-align: right;\n",
       "    }\n",
       "</style>\n",
       "<table border=\"1\" class=\"dataframe\">\n",
       "  <thead>\n",
       "    <tr style=\"text-align: right;\">\n",
       "      <th></th>\n",
       "      <th>0</th>\n",
       "      <th>1</th>\n",
       "      <th>2</th>\n",
       "      <th>3</th>\n",
       "      <th>4</th>\n",
       "      <th>5</th>\n",
       "      <th>6</th>\n",
       "      <th>7</th>\n",
       "      <th>8</th>\n",
       "      <th>9</th>\n",
       "      <th>10</th>\n",
       "      <th>11</th>\n",
       "      <th>12</th>\n",
       "      <th>13</th>\n",
       "      <th>14</th>\n",
       "      <th>15</th>\n",
       "      <th>16</th>\n",
       "      <th>17</th>\n",
       "      <th>18</th>\n",
       "      <th>19</th>\n",
       "      <th>20</th>\n",
       "      <th>21</th>\n",
       "      <th>22</th>\n",
       "      <th>23</th>\n",
       "      <th>24</th>\n",
       "      <th>25</th>\n",
       "      <th>26</th>\n",
       "      <th>27</th>\n",
       "      <th>28</th>\n",
       "      <th>29</th>\n",
       "      <th>class</th>\n",
       "    </tr>\n",
       "  </thead>\n",
       "  <tbody>\n",
       "    <tr>\n",
       "      <th>0</th>\n",
       "      <td>-507.188232</td>\n",
       "      <td>115.508881</td>\n",
       "      <td>-0.499709</td>\n",
       "      <td>7.246369</td>\n",
       "      <td>-11.980804</td>\n",
       "      <td>-2.610638</td>\n",
       "      <td>5.634995</td>\n",
       "      <td>-1.005566</td>\n",
       "      <td>-1.521611</td>\n",
       "      <td>-5.084385</td>\n",
       "      <td>-8.843759</td>\n",
       "      <td>-9.365443</td>\n",
       "      <td>-5.832166</td>\n",
       "      <td>-8.097772</td>\n",
       "      <td>-3.982676</td>\n",
       "      <td>-6.642050</td>\n",
       "      <td>-6.367625</td>\n",
       "      <td>-3.288658</td>\n",
       "      <td>-3.019945</td>\n",
       "      <td>-0.069291</td>\n",
       "      <td>-3.993271</td>\n",
       "      <td>-2.627541</td>\n",
       "      <td>-8.679294</td>\n",
       "      <td>-2.963506</td>\n",
       "      <td>-2.603368</td>\n",
       "      <td>-5.309595</td>\n",
       "      <td>-1.650177</td>\n",
       "      <td>-0.540385</td>\n",
       "      <td>-4.737616</td>\n",
       "      <td>-5.110260</td>\n",
       "      <td>आम</td>\n",
       "    </tr>\n",
       "    <tr>\n",
       "      <th>1</th>\n",
       "      <td>-504.667755</td>\n",
       "      <td>67.896660</td>\n",
       "      <td>-8.077479</td>\n",
       "      <td>-18.570694</td>\n",
       "      <td>-20.610073</td>\n",
       "      <td>-6.828909</td>\n",
       "      <td>-12.515812</td>\n",
       "      <td>-15.207339</td>\n",
       "      <td>-18.417042</td>\n",
       "      <td>-4.054206</td>\n",
       "      <td>-3.019321</td>\n",
       "      <td>-2.306941</td>\n",
       "      <td>-1.204430</td>\n",
       "      <td>-5.889398</td>\n",
       "      <td>-6.287278</td>\n",
       "      <td>-4.060507</td>\n",
       "      <td>-4.522434</td>\n",
       "      <td>-5.259367</td>\n",
       "      <td>-6.529147</td>\n",
       "      <td>-7.048288</td>\n",
       "      <td>-3.959103</td>\n",
       "      <td>0.307011</td>\n",
       "      <td>4.597691</td>\n",
       "      <td>6.639877</td>\n",
       "      <td>0.819773</td>\n",
       "      <td>1.052410</td>\n",
       "      <td>-1.950500</td>\n",
       "      <td>-1.188512</td>\n",
       "      <td>1.422675</td>\n",
       "      <td>-0.993730</td>\n",
       "      <td>आम</td>\n",
       "    </tr>\n",
       "    <tr>\n",
       "      <th>2</th>\n",
       "      <td>-374.015472</td>\n",
       "      <td>69.507240</td>\n",
       "      <td>-44.598995</td>\n",
       "      <td>-16.835154</td>\n",
       "      <td>0.641032</td>\n",
       "      <td>15.351396</td>\n",
       "      <td>0.349061</td>\n",
       "      <td>-3.373458</td>\n",
       "      <td>-0.213868</td>\n",
       "      <td>-0.665561</td>\n",
       "      <td>-3.132827</td>\n",
       "      <td>-6.220978</td>\n",
       "      <td>-15.634122</td>\n",
       "      <td>-1.630352</td>\n",
       "      <td>-10.707984</td>\n",
       "      <td>-1.961689</td>\n",
       "      <td>-11.771651</td>\n",
       "      <td>-11.954151</td>\n",
       "      <td>-7.621152</td>\n",
       "      <td>-3.167565</td>\n",
       "      <td>-11.925715</td>\n",
       "      <td>-6.564661</td>\n",
       "      <td>-7.444835</td>\n",
       "      <td>-6.765705</td>\n",
       "      <td>-3.133401</td>\n",
       "      <td>1.420028</td>\n",
       "      <td>4.863281</td>\n",
       "      <td>-0.576264</td>\n",
       "      <td>-4.217253</td>\n",
       "      <td>0.798838</td>\n",
       "      <td>आम</td>\n",
       "    </tr>\n",
       "    <tr>\n",
       "      <th>3</th>\n",
       "      <td>-567.320007</td>\n",
       "      <td>74.504440</td>\n",
       "      <td>3.016104</td>\n",
       "      <td>3.740675</td>\n",
       "      <td>-18.232983</td>\n",
       "      <td>-0.406203</td>\n",
       "      <td>-1.748108</td>\n",
       "      <td>-6.890533</td>\n",
       "      <td>-6.685743</td>\n",
       "      <td>-10.151044</td>\n",
       "      <td>-8.497346</td>\n",
       "      <td>-4.559126</td>\n",
       "      <td>-3.343148</td>\n",
       "      <td>-4.826756</td>\n",
       "      <td>-3.145653</td>\n",
       "      <td>-8.170454</td>\n",
       "      <td>-3.441782</td>\n",
       "      <td>-2.634800</td>\n",
       "      <td>-5.146445</td>\n",
       "      <td>0.136067</td>\n",
       "      <td>-1.544928</td>\n",
       "      <td>-2.612456</td>\n",
       "      <td>-2.007368</td>\n",
       "      <td>-0.536509</td>\n",
       "      <td>-1.493566</td>\n",
       "      <td>-0.918124</td>\n",
       "      <td>-0.194929</td>\n",
       "      <td>-0.960487</td>\n",
       "      <td>-1.867280</td>\n",
       "      <td>-1.706182</td>\n",
       "      <td>आम</td>\n",
       "    </tr>\n",
       "    <tr>\n",
       "      <th>4</th>\n",
       "      <td>-578.482422</td>\n",
       "      <td>86.136101</td>\n",
       "      <td>4.080464</td>\n",
       "      <td>2.431802</td>\n",
       "      <td>-11.221806</td>\n",
       "      <td>-2.585104</td>\n",
       "      <td>13.638548</td>\n",
       "      <td>-1.920223</td>\n",
       "      <td>-5.192510</td>\n",
       "      <td>3.386254</td>\n",
       "      <td>-6.666082</td>\n",
       "      <td>-7.636463</td>\n",
       "      <td>-1.070016</td>\n",
       "      <td>-3.838017</td>\n",
       "      <td>-7.632255</td>\n",
       "      <td>-7.105994</td>\n",
       "      <td>0.406878</td>\n",
       "      <td>-2.369344</td>\n",
       "      <td>-3.760860</td>\n",
       "      <td>-1.749110</td>\n",
       "      <td>-4.363394</td>\n",
       "      <td>-3.073128</td>\n",
       "      <td>-3.603078</td>\n",
       "      <td>-0.214251</td>\n",
       "      <td>-1.814012</td>\n",
       "      <td>-4.508536</td>\n",
       "      <td>-1.034538</td>\n",
       "      <td>-1.728061</td>\n",
       "      <td>-2.596040</td>\n",
       "      <td>-2.900922</td>\n",
       "      <td>आम</td>\n",
       "    </tr>\n",
       "  </tbody>\n",
       "</table>\n",
       "</div>"
      ],
      "text/plain": [
       "            0           1          2  ...        28        29  class\n",
       "0 -507.188232  115.508881  -0.499709  ... -4.737616 -5.110260     आम\n",
       "1 -504.667755   67.896660  -8.077479  ...  1.422675 -0.993730     आम\n",
       "2 -374.015472   69.507240 -44.598995  ... -4.217253  0.798838     आम\n",
       "3 -567.320007   74.504440   3.016104  ... -1.867280 -1.706182     आम\n",
       "4 -578.482422   86.136101   4.080464  ... -2.596040 -2.900922     आम\n",
       "\n",
       "[5 rows x 31 columns]"
      ]
     },
     "execution_count": 3,
     "metadata": {},
     "output_type": "execute_result"
    }
   ],
   "source": [
    "df = pd.read_csv('/content/drive/MyDrive/Deep Learning/Datasets/Preprocessed Audio MFCC.csv')\n",
    "df.head()"
   ]
  },
  {
   "cell_type": "markdown",
   "metadata": {
    "id": "U7ayRYums_ld"
   },
   "source": [
    "The dataset above was extracted by preprocessing audio data which we accumulated in the 5th semester to work on a speech recognition project. It contains 30 Mel Frequency Cepstral Coefficient Means useful for predicting 10 words."
   ]
  },
  {
   "cell_type": "code",
   "execution_count": 4,
   "metadata": {
    "colab": {
     "base_uri": "https://localhost:8080/"
    },
    "id": "0MspiEkf1m8A",
    "outputId": "9d9ba1b1-ccd2-4618-95b1-f41d702be322"
   },
   "outputs": [
    {
     "data": {
      "text/plain": [
       "(1046, 31)"
      ]
     },
     "execution_count": 4,
     "metadata": {},
     "output_type": "execute_result"
    }
   ],
   "source": [
    "df.shape"
   ]
  },
  {
   "cell_type": "markdown",
   "metadata": {
    "id": "-sQkBKKy2YOf"
   },
   "source": [
    "### Splitting data into train, validate and test"
   ]
  },
  {
   "cell_type": "code",
   "execution_count": 5,
   "metadata": {
    "id": "77-AtJ6W1qCr"
   },
   "outputs": [],
   "source": [
    "from sklearn.model_selection import train_test_split as tts\n",
    "from sklearn.preprocessing import MinMaxScaler, StandardScaler"
   ]
  },
  {
   "cell_type": "code",
   "execution_count": 6,
   "metadata": {
    "colab": {
     "base_uri": "https://localhost:8080/"
    },
    "id": "jWbBJvsH100P",
    "outputId": "cf928241-a271-4480-81cd-b4a47e7be0c6"
   },
   "outputs": [
    {
     "data": {
      "text/plain": [
       "array([[-0.90278576,  0.70030512,  0.66706866, ...,  0.04617815,\n",
       "        -1.01955239, -1.30886155],\n",
       "       [-0.87773383, -0.81638491,  0.22861753, ..., -0.15684798,\n",
       "         0.70715394, -0.09567425],\n",
       "       [ 0.42086645, -0.76507978, -1.88452384, ...,  0.03493916,\n",
       "        -0.87369663,  0.43261585],\n",
       "       ...,\n",
       "       [ 1.43046754,  0.39350795, -1.88564223, ...,  3.55744374,\n",
       "         0.83796201,  0.54367184],\n",
       "       [ 1.1323243 ,  0.61046706, -0.7691001 , ..., -0.68305318,\n",
       "        -1.30435711, -0.97295748],\n",
       "       [-1.17867585, -0.05619563,  0.16408634, ...,  0.8599921 ,\n",
       "         0.20971642,  1.33654238]])"
      ]
     },
     "execution_count": 6,
     "metadata": {},
     "output_type": "execute_result"
    }
   ],
   "source": [
    "ss = StandardScaler()\n",
    "x = ss.fit_transform(df.drop(columns=['class']))\n",
    "x"
   ]
  },
  {
   "cell_type": "code",
   "execution_count": 7,
   "metadata": {
    "id": "S-LdtrXT5wkM"
   },
   "outputs": [],
   "source": [
    "y = df['class']\n",
    "num_labels = len(y.unique())\n",
    "y = np.array(pd.get_dummies(y))"
   ]
  },
  {
   "cell_type": "code",
   "execution_count": 8,
   "metadata": {
    "colab": {
     "base_uri": "https://localhost:8080/"
    },
    "id": "guevJAvi4ZVA",
    "outputId": "d62ed4dd-3313-4007-b017-2048a61616ac"
   },
   "outputs": [
    {
     "data": {
      "text/plain": [
       "10"
      ]
     },
     "execution_count": 8,
     "metadata": {},
     "output_type": "execute_result"
    }
   ],
   "source": [
    "num_labels"
   ]
  },
  {
   "cell_type": "code",
   "execution_count": 9,
   "metadata": {
    "id": "0ZU5d53U17VD"
   },
   "outputs": [],
   "source": [
    "xt, xts, yt, yts = tts(x, y, test_size=0.1, stratify=y)"
   ]
  },
  {
   "cell_type": "code",
   "execution_count": 10,
   "metadata": {
    "id": "5c1_upa8wNJ9"
   },
   "outputs": [],
   "source": [
    "xtr, xv, ytr, yv = tts(xt, yt, test_size=0.1, stratify=yt)"
   ]
  },
  {
   "cell_type": "code",
   "execution_count": 11,
   "metadata": {
    "colab": {
     "base_uri": "https://localhost:8080/"
    },
    "id": "HphV5ewG3Xrm",
    "outputId": "2a9f15fd-212d-4774-91ae-fa2588688eaa"
   },
   "outputs": [
    {
     "data": {
      "text/plain": [
       "(846, 30)"
      ]
     },
     "execution_count": 11,
     "metadata": {},
     "output_type": "execute_result"
    }
   ],
   "source": [
    "xtr.shape"
   ]
  },
  {
   "cell_type": "markdown",
   "metadata": {
    "id": "oJNQOcBr2fX2"
   },
   "source": [
    "## Model Creation"
   ]
  },
  {
   "cell_type": "code",
   "execution_count": 12,
   "metadata": {
    "id": "zmH0m4BVz0zg"
   },
   "outputs": [],
   "source": [
    "import tensorflow as tf"
   ]
  },
  {
   "cell_type": "code",
   "execution_count": 13,
   "metadata": {
    "colab": {
     "base_uri": "https://localhost:8080/"
    },
    "id": "8-JpLWPK1Hvt",
    "outputId": "375f6bd1-e1df-4df8-9a31-94c4d42c116c",
    "scrolled": true
   },
   "outputs": [
    {
     "name": "stdout",
     "output_type": "stream",
     "text": [
      "Epoch 1/30\n",
      "27/27 [==============================] - 1s 8ms/step - loss: 2.3693 - accuracy: 0.1300 - val_loss: 2.2981 - val_accuracy: 0.1684\n",
      "Epoch 2/30\n",
      "27/27 [==============================] - 0s 2ms/step - loss: 2.0922 - accuracy: 0.2435 - val_loss: 2.2369 - val_accuracy: 0.2105\n",
      "Epoch 3/30\n",
      "27/27 [==============================] - 0s 2ms/step - loss: 1.9548 - accuracy: 0.3085 - val_loss: 2.2766 - val_accuracy: 0.2526\n",
      "Epoch 4/30\n",
      "27/27 [==============================] - 0s 2ms/step - loss: 1.8517 - accuracy: 0.3534 - val_loss: 2.2294 - val_accuracy: 0.2632\n",
      "Epoch 5/30\n",
      "27/27 [==============================] - 0s 2ms/step - loss: 1.7736 - accuracy: 0.3771 - val_loss: 2.2858 - val_accuracy: 0.2632\n",
      "Epoch 6/30\n",
      "27/27 [==============================] - 0s 2ms/step - loss: 1.7389 - accuracy: 0.3712 - val_loss: 2.2817 - val_accuracy: 0.2211\n",
      "Epoch 7/30\n",
      "27/27 [==============================] - 0s 2ms/step - loss: 1.6738 - accuracy: 0.4019 - val_loss: 2.2559 - val_accuracy: 0.2632\n",
      "Epoch 8/30\n",
      "27/27 [==============================] - 0s 2ms/step - loss: 1.6353 - accuracy: 0.4279 - val_loss: 2.2471 - val_accuracy: 0.2737\n",
      "Epoch 9/30\n",
      "27/27 [==============================] - 0s 2ms/step - loss: 1.6126 - accuracy: 0.4279 - val_loss: 2.2813 - val_accuracy: 0.3053\n",
      "Epoch 10/30\n",
      "27/27 [==============================] - 0s 2ms/step - loss: 1.5504 - accuracy: 0.4444 - val_loss: 2.3388 - val_accuracy: 0.2421\n",
      "Epoch 11/30\n",
      "27/27 [==============================] - 0s 2ms/step - loss: 1.5120 - accuracy: 0.4515 - val_loss: 2.3749 - val_accuracy: 0.2842\n",
      "Epoch 12/30\n",
      "27/27 [==============================] - 0s 2ms/step - loss: 1.4657 - accuracy: 0.4835 - val_loss: 2.4092 - val_accuracy: 0.2526\n",
      "Epoch 13/30\n",
      "27/27 [==============================] - 0s 2ms/step - loss: 1.4424 - accuracy: 0.4905 - val_loss: 2.4361 - val_accuracy: 0.2632\n",
      "Epoch 14/30\n",
      "27/27 [==============================] - 0s 2ms/step - loss: 1.4112 - accuracy: 0.4870 - val_loss: 2.3988 - val_accuracy: 0.2526\n",
      "Epoch 15/30\n",
      "27/27 [==============================] - 0s 2ms/step - loss: 1.3898 - accuracy: 0.4976 - val_loss: 2.4644 - val_accuracy: 0.2526\n",
      "Epoch 16/30\n",
      "27/27 [==============================] - 0s 2ms/step - loss: 1.3541 - accuracy: 0.5272 - val_loss: 2.6151 - val_accuracy: 0.2632\n",
      "Epoch 17/30\n",
      "27/27 [==============================] - 0s 2ms/step - loss: 1.3322 - accuracy: 0.5355 - val_loss: 2.6595 - val_accuracy: 0.2632\n",
      "Epoch 18/30\n",
      "27/27 [==============================] - 0s 2ms/step - loss: 1.2978 - accuracy: 0.5449 - val_loss: 2.5912 - val_accuracy: 0.2316\n",
      "Epoch 19/30\n",
      "27/27 [==============================] - 0s 2ms/step - loss: 1.2656 - accuracy: 0.5567 - val_loss: 2.6680 - val_accuracy: 0.2316\n",
      "Epoch 20/30\n",
      "27/27 [==============================] - 0s 2ms/step - loss: 1.2505 - accuracy: 0.5544 - val_loss: 2.7330 - val_accuracy: 0.2211\n",
      "Epoch 21/30\n",
      "27/27 [==============================] - 0s 2ms/step - loss: 1.2226 - accuracy: 0.5768 - val_loss: 2.7810 - val_accuracy: 0.2316\n",
      "Epoch 22/30\n",
      "27/27 [==============================] - 0s 2ms/step - loss: 1.2029 - accuracy: 0.5544 - val_loss: 2.7952 - val_accuracy: 0.2632\n",
      "Epoch 23/30\n",
      "27/27 [==============================] - 0s 2ms/step - loss: 1.1843 - accuracy: 0.5780 - val_loss: 2.8246 - val_accuracy: 0.2211\n",
      "Epoch 24/30\n",
      "27/27 [==============================] - 0s 3ms/step - loss: 1.1629 - accuracy: 0.6040 - val_loss: 2.8706 - val_accuracy: 0.2421\n",
      "Epoch 25/30\n",
      "27/27 [==============================] - 0s 2ms/step - loss: 1.1298 - accuracy: 0.6170 - val_loss: 2.9313 - val_accuracy: 0.2105\n",
      "Epoch 26/30\n",
      "27/27 [==============================] - 0s 2ms/step - loss: 1.1273 - accuracy: 0.6040 - val_loss: 2.8885 - val_accuracy: 0.2526\n",
      "Epoch 27/30\n",
      "27/27 [==============================] - 0s 2ms/step - loss: 1.1055 - accuracy: 0.6017 - val_loss: 2.9852 - val_accuracy: 0.2632\n",
      "Epoch 28/30\n",
      "27/27 [==============================] - 0s 2ms/step - loss: 1.1186 - accuracy: 0.6076 - val_loss: 3.1075 - val_accuracy: 0.2526\n",
      "Epoch 29/30\n",
      "27/27 [==============================] - 0s 2ms/step - loss: 1.0919 - accuracy: 0.6217 - val_loss: 3.0299 - val_accuracy: 0.2632\n",
      "Epoch 30/30\n",
      "27/27 [==============================] - 0s 2ms/step - loss: 1.0589 - accuracy: 0.6348 - val_loss: 3.1122 - val_accuracy: 0.2316\n"
     ]
    },
    {
     "data": {
      "text/plain": [
       "<keras.callbacks.History at 0x7f2563503c10>"
      ]
     },
     "execution_count": 13,
     "metadata": {},
     "output_type": "execute_result"
    }
   ],
   "source": [
    "lr=0.01\n",
    "\n",
    "model = tf.keras.Sequential()\n",
    "model.add(tf.keras.layers.Dense(xtr.shape[1], input_shape=(xtr.shape[1],), activation='relu'))\n",
    "model.add(tf.keras.layers.Dense(num_labels, activation='softmax'))\n",
    "\n",
    "loss_fn = tf.keras.losses.CategoricalCrossentropy()\n",
    "opt = tf.keras.optimizers.Adam(learning_rate=lr)\n",
    "\n",
    "model.compile(optimizer=opt, loss=loss_fn, metrics=['accuracy'])\n",
    "model.fit(xtr, ytr, epochs=30, validation_data=(xv, yv))"
   ]
  },
  {
   "cell_type": "markdown",
   "metadata": {
    "id": "Qhh0JOKn7vnl"
   },
   "source": [
    "## Hyperparameter Tuning"
   ]
  },
  {
   "cell_type": "markdown",
   "metadata": {
    "id": "V3CCG-JwsmpL"
   },
   "source": [
    "### Changing the Activation function"
   ]
  },
  {
   "cell_type": "code",
   "execution_count": 14,
   "metadata": {
    "colab": {
     "base_uri": "https://localhost:8080/"
    },
    "id": "EHzTAHQAsq_S",
    "outputId": "d74e37da-f7fe-4b13-b398-3bf0e2d69474"
   },
   "outputs": [
    {
     "name": "stdout",
     "output_type": "stream",
     "text": [
      "Epoch 1/30\n",
      "27/27 [==============================] - 1s 7ms/step - loss: 2.3929 - accuracy: 0.1702 - val_loss: 2.3597 - val_accuracy: 0.2105\n",
      "Epoch 2/30\n",
      "27/27 [==============================] - 0s 2ms/step - loss: 2.0624 - accuracy: 0.2624 - val_loss: 2.2418 - val_accuracy: 0.2632\n",
      "Epoch 3/30\n",
      "27/27 [==============================] - 0s 2ms/step - loss: 1.8655 - accuracy: 0.3404 - val_loss: 2.2971 - val_accuracy: 0.2421\n",
      "Epoch 4/30\n",
      "27/27 [==============================] - 0s 2ms/step - loss: 1.7712 - accuracy: 0.3546 - val_loss: 2.2618 - val_accuracy: 0.2421\n",
      "Epoch 5/30\n",
      "27/27 [==============================] - 0s 2ms/step - loss: 1.6674 - accuracy: 0.4149 - val_loss: 2.3690 - val_accuracy: 0.2842\n",
      "Epoch 6/30\n",
      "27/27 [==============================] - 0s 2ms/step - loss: 1.5862 - accuracy: 0.4243 - val_loss: 2.4038 - val_accuracy: 0.2211\n",
      "Epoch 7/30\n",
      "27/27 [==============================] - 0s 2ms/step - loss: 1.5429 - accuracy: 0.4409 - val_loss: 2.4068 - val_accuracy: 0.2737\n",
      "Epoch 8/30\n",
      "27/27 [==============================] - 0s 2ms/step - loss: 1.4851 - accuracy: 0.4835 - val_loss: 2.5146 - val_accuracy: 0.2526\n",
      "Epoch 9/30\n",
      "27/27 [==============================] - 0s 2ms/step - loss: 1.4207 - accuracy: 0.5106 - val_loss: 2.5453 - val_accuracy: 0.2316\n",
      "Epoch 10/30\n",
      "27/27 [==============================] - 0s 2ms/step - loss: 1.3772 - accuracy: 0.5236 - val_loss: 2.5983 - val_accuracy: 0.2211\n",
      "Epoch 11/30\n",
      "27/27 [==============================] - 0s 2ms/step - loss: 1.3319 - accuracy: 0.5437 - val_loss: 2.6553 - val_accuracy: 0.1895\n",
      "Epoch 12/30\n",
      "27/27 [==============================] - 0s 2ms/step - loss: 1.2921 - accuracy: 0.5520 - val_loss: 2.7435 - val_accuracy: 0.1789\n",
      "Epoch 13/30\n",
      "27/27 [==============================] - 0s 2ms/step - loss: 1.2621 - accuracy: 0.5603 - val_loss: 2.7310 - val_accuracy: 0.2421\n",
      "Epoch 14/30\n",
      "27/27 [==============================] - 0s 2ms/step - loss: 1.2207 - accuracy: 0.5745 - val_loss: 2.8063 - val_accuracy: 0.2316\n",
      "Epoch 15/30\n",
      "27/27 [==============================] - 0s 2ms/step - loss: 1.1730 - accuracy: 0.6099 - val_loss: 2.9059 - val_accuracy: 0.2000\n",
      "Epoch 16/30\n",
      "27/27 [==============================] - 0s 2ms/step - loss: 1.1361 - accuracy: 0.6158 - val_loss: 2.9860 - val_accuracy: 0.2105\n",
      "Epoch 17/30\n",
      "27/27 [==============================] - 0s 2ms/step - loss: 1.1166 - accuracy: 0.6324 - val_loss: 2.9786 - val_accuracy: 0.1789\n",
      "Epoch 18/30\n",
      "27/27 [==============================] - 0s 2ms/step - loss: 1.0897 - accuracy: 0.6395 - val_loss: 3.0580 - val_accuracy: 0.2000\n",
      "Epoch 19/30\n",
      "27/27 [==============================] - 0s 2ms/step - loss: 1.0645 - accuracy: 0.6371 - val_loss: 3.0212 - val_accuracy: 0.1895\n",
      "Epoch 20/30\n",
      "27/27 [==============================] - 0s 2ms/step - loss: 1.0514 - accuracy: 0.6442 - val_loss: 3.1277 - val_accuracy: 0.1895\n",
      "Epoch 21/30\n",
      "27/27 [==============================] - 0s 2ms/step - loss: 1.0231 - accuracy: 0.6596 - val_loss: 3.1426 - val_accuracy: 0.2000\n",
      "Epoch 22/30\n",
      "27/27 [==============================] - 0s 2ms/step - loss: 0.9954 - accuracy: 0.6667 - val_loss: 3.2366 - val_accuracy: 0.1895\n",
      "Epoch 23/30\n",
      "27/27 [==============================] - 0s 2ms/step - loss: 0.9581 - accuracy: 0.6891 - val_loss: 3.2642 - val_accuracy: 0.1895\n",
      "Epoch 24/30\n",
      "27/27 [==============================] - 0s 2ms/step - loss: 0.9452 - accuracy: 0.6903 - val_loss: 3.3256 - val_accuracy: 0.1895\n",
      "Epoch 25/30\n",
      "27/27 [==============================] - 0s 2ms/step - loss: 0.9280 - accuracy: 0.7116 - val_loss: 3.3682 - val_accuracy: 0.1579\n",
      "Epoch 26/30\n",
      "27/27 [==============================] - 0s 2ms/step - loss: 0.9007 - accuracy: 0.7139 - val_loss: 3.4187 - val_accuracy: 0.1684\n",
      "Epoch 27/30\n",
      "27/27 [==============================] - 0s 2ms/step - loss: 0.8810 - accuracy: 0.7352 - val_loss: 3.4889 - val_accuracy: 0.1895\n",
      "Epoch 28/30\n",
      "27/27 [==============================] - 0s 2ms/step - loss: 0.8711 - accuracy: 0.7340 - val_loss: 3.4881 - val_accuracy: 0.1789\n",
      "Epoch 29/30\n",
      "27/27 [==============================] - 0s 2ms/step - loss: 0.8473 - accuracy: 0.7376 - val_loss: 3.5524 - val_accuracy: 0.1684\n",
      "Epoch 30/30\n",
      "27/27 [==============================] - 0s 2ms/step - loss: 0.8397 - accuracy: 0.7340 - val_loss: 3.6282 - val_accuracy: 0.1789\n"
     ]
    },
    {
     "data": {
      "text/plain": [
       "<keras.callbacks.History at 0x7f25634643d0>"
      ]
     },
     "execution_count": 14,
     "metadata": {},
     "output_type": "execute_result"
    }
   ],
   "source": [
    "model = tf.keras.Sequential()\n",
    "model.add(tf.keras.layers.Dense(xtr.shape[1], input_shape=(xtr.shape[1],), activation='tanh'))\n",
    "model.add(tf.keras.layers.Dense(num_labels, activation='softmax'))\n",
    "\n",
    "model.compile(optimizer=opt, loss=loss_fn, metrics=['accuracy'])\n",
    "model.fit(xtr, ytr, epochs=30, validation_data=(xv, yv))"
   ]
  },
  {
   "cell_type": "markdown",
   "metadata": {
    "id": "Dh7GlZNEtUuN"
   },
   "source": [
    "The accuracy with 'tanh' is not too different from the one with 'relu'. Since 'relu' is a simpler activation function, we choose to move forward with it."
   ]
  },
  {
   "cell_type": "markdown",
   "metadata": {
    "id": "nvCgEqcssM-K"
   },
   "source": [
    "### Adding a Dropout layer"
   ]
  },
  {
   "cell_type": "code",
   "execution_count": 15,
   "metadata": {
    "colab": {
     "base_uri": "https://localhost:8080/"
    },
    "id": "wMqEbtWAsSdm",
    "outputId": "a1287140-64ad-4d73-c809-502f4acd7890"
   },
   "outputs": [
    {
     "name": "stdout",
     "output_type": "stream",
     "text": [
      "Epoch 1/30\n",
      "27/27 [==============================] - 1s 7ms/step - loss: 2.5806 - accuracy: 0.1312 - val_loss: 2.1822 - val_accuracy: 0.2421\n",
      "Epoch 2/30\n",
      "27/27 [==============================] - 0s 2ms/step - loss: 2.2449 - accuracy: 0.2080 - val_loss: 2.1242 - val_accuracy: 0.1579\n",
      "Epoch 3/30\n",
      "27/27 [==============================] - 0s 2ms/step - loss: 2.0800 - accuracy: 0.2447 - val_loss: 2.1746 - val_accuracy: 0.2947\n",
      "Epoch 4/30\n",
      "27/27 [==============================] - 0s 2ms/step - loss: 2.0321 - accuracy: 0.2636 - val_loss: 2.1364 - val_accuracy: 0.2842\n",
      "Epoch 5/30\n",
      "27/27 [==============================] - 0s 2ms/step - loss: 1.9731 - accuracy: 0.2908 - val_loss: 2.1511 - val_accuracy: 0.2737\n",
      "Epoch 6/30\n",
      "27/27 [==============================] - 0s 3ms/step - loss: 1.9402 - accuracy: 0.2908 - val_loss: 2.1249 - val_accuracy: 0.2947\n",
      "Epoch 7/30\n",
      "27/27 [==============================] - 0s 2ms/step - loss: 1.9091 - accuracy: 0.3156 - val_loss: 2.1610 - val_accuracy: 0.2632\n",
      "Epoch 8/30\n",
      "27/27 [==============================] - 0s 2ms/step - loss: 1.8546 - accuracy: 0.3085 - val_loss: 2.1520 - val_accuracy: 0.2632\n",
      "Epoch 9/30\n",
      "27/27 [==============================] - 0s 2ms/step - loss: 1.7951 - accuracy: 0.3440 - val_loss: 2.1625 - val_accuracy: 0.2947\n",
      "Epoch 10/30\n",
      "27/27 [==============================] - 0s 2ms/step - loss: 1.8052 - accuracy: 0.3061 - val_loss: 2.2160 - val_accuracy: 0.2842\n",
      "Epoch 11/30\n",
      "27/27 [==============================] - 0s 2ms/step - loss: 1.7524 - accuracy: 0.3605 - val_loss: 2.1987 - val_accuracy: 0.3053\n",
      "Epoch 12/30\n",
      "27/27 [==============================] - 0s 2ms/step - loss: 1.7589 - accuracy: 0.3499 - val_loss: 2.3063 - val_accuracy: 0.2737\n",
      "Epoch 13/30\n",
      "27/27 [==============================] - 0s 2ms/step - loss: 1.7150 - accuracy: 0.3712 - val_loss: 2.2804 - val_accuracy: 0.2632\n",
      "Epoch 14/30\n",
      "27/27 [==============================] - 0s 2ms/step - loss: 1.7020 - accuracy: 0.3652 - val_loss: 2.2673 - val_accuracy: 0.2632\n",
      "Epoch 15/30\n",
      "27/27 [==============================] - 0s 3ms/step - loss: 1.6917 - accuracy: 0.3582 - val_loss: 2.3232 - val_accuracy: 0.2632\n",
      "Epoch 16/30\n",
      "27/27 [==============================] - 0s 2ms/step - loss: 1.6758 - accuracy: 0.3440 - val_loss: 2.2937 - val_accuracy: 0.3053\n",
      "Epoch 17/30\n",
      "27/27 [==============================] - 0s 2ms/step - loss: 1.6811 - accuracy: 0.3558 - val_loss: 2.3067 - val_accuracy: 0.3053\n",
      "Epoch 18/30\n",
      "27/27 [==============================] - 0s 2ms/step - loss: 1.6769 - accuracy: 0.3759 - val_loss: 2.3054 - val_accuracy: 0.2842\n",
      "Epoch 19/30\n",
      "27/27 [==============================] - 0s 2ms/step - loss: 1.6422 - accuracy: 0.3948 - val_loss: 2.3233 - val_accuracy: 0.3053\n",
      "Epoch 20/30\n",
      "27/27 [==============================] - 0s 2ms/step - loss: 1.6457 - accuracy: 0.3723 - val_loss: 2.3588 - val_accuracy: 0.3263\n",
      "Epoch 21/30\n",
      "27/27 [==============================] - 0s 2ms/step - loss: 1.6565 - accuracy: 0.3723 - val_loss: 2.3809 - val_accuracy: 0.3158\n",
      "Epoch 22/30\n",
      "27/27 [==============================] - 0s 2ms/step - loss: 1.6380 - accuracy: 0.3783 - val_loss: 2.4039 - val_accuracy: 0.2842\n",
      "Epoch 23/30\n",
      "27/27 [==============================] - 0s 2ms/step - loss: 1.6371 - accuracy: 0.3759 - val_loss: 2.5109 - val_accuracy: 0.2632\n",
      "Epoch 24/30\n",
      "27/27 [==============================] - 0s 2ms/step - loss: 1.6005 - accuracy: 0.3960 - val_loss: 2.5138 - val_accuracy: 0.2526\n",
      "Epoch 25/30\n",
      "27/27 [==============================] - 0s 2ms/step - loss: 1.5884 - accuracy: 0.4066 - val_loss: 2.5446 - val_accuracy: 0.2842\n",
      "Epoch 26/30\n",
      "27/27 [==============================] - 0s 2ms/step - loss: 1.5696 - accuracy: 0.4090 - val_loss: 2.5505 - val_accuracy: 0.3263\n",
      "Epoch 27/30\n",
      "27/27 [==============================] - 0s 2ms/step - loss: 1.5415 - accuracy: 0.4220 - val_loss: 2.6158 - val_accuracy: 0.2947\n",
      "Epoch 28/30\n",
      "27/27 [==============================] - 0s 2ms/step - loss: 1.5233 - accuracy: 0.4374 - val_loss: 2.6454 - val_accuracy: 0.3053\n",
      "Epoch 29/30\n",
      "27/27 [==============================] - 0s 2ms/step - loss: 1.5211 - accuracy: 0.4161 - val_loss: 2.6824 - val_accuracy: 0.3263\n",
      "Epoch 30/30\n",
      "27/27 [==============================] - 0s 2ms/step - loss: 1.5760 - accuracy: 0.4019 - val_loss: 2.6600 - val_accuracy: 0.3053\n"
     ]
    },
    {
     "data": {
      "text/plain": [
       "<keras.callbacks.History at 0x7f25633e5850>"
      ]
     },
     "execution_count": 15,
     "metadata": {},
     "output_type": "execute_result"
    }
   ],
   "source": [
    "model = tf.keras.Sequential()\n",
    "model.add(tf.keras.layers.Dense(xtr.shape[1], input_shape=(xtr.shape[1],), activation='relu'))\n",
    "model.add(tf.keras.layers.Dropout(0.4))\n",
    "model.add(tf.keras.layers.Dense(num_labels, activation='softmax'))\n",
    "\n",
    "model.compile(optimizer=opt, loss=loss_fn, metrics=['accuracy'])\n",
    "model.fit(xtr, ytr, epochs=30, validation_data=(xv, yv))"
   ]
  },
  {
   "cell_type": "markdown",
   "metadata": {
    "id": "Te6XnlC_tvWq"
   },
   "source": [
    "Adding a dropout layer has reduced the overfitting but it hasn't helped with the accuracy. Let us try some other methods as well."
   ]
  },
  {
   "cell_type": "markdown",
   "metadata": {
    "id": "Yzak4TeE1jo5"
   },
   "source": [
    "### Applying Regularisation"
   ]
  },
  {
   "cell_type": "markdown",
   "metadata": {
    "id": "WAp9JzU-r_Xo"
   },
   "source": [
    "#### L1 Regularisation"
   ]
  },
  {
   "cell_type": "code",
   "execution_count": 16,
   "metadata": {
    "colab": {
     "base_uri": "https://localhost:8080/"
    },
    "id": "-J_ffwFV6WHt",
    "outputId": "feb6d335-0614-4106-9209-e7f14bafb8f7"
   },
   "outputs": [
    {
     "name": "stdout",
     "output_type": "stream",
     "text": [
      "Epoch 1/30\n",
      "27/27 [==============================] - 1s 8ms/step - loss: 3.5390 - accuracy: 0.1182 - val_loss: 2.9310 - val_accuracy: 0.1158\n",
      "Epoch 2/30\n",
      "27/27 [==============================] - 0s 2ms/step - loss: 2.6613 - accuracy: 0.1785 - val_loss: 2.4751 - val_accuracy: 0.2000\n",
      "Epoch 3/30\n",
      "27/27 [==============================] - 0s 2ms/step - loss: 2.4033 - accuracy: 0.2199 - val_loss: 2.3551 - val_accuracy: 0.2632\n",
      "Epoch 4/30\n",
      "27/27 [==============================] - 0s 2ms/step - loss: 2.3285 - accuracy: 0.2435 - val_loss: 2.2835 - val_accuracy: 0.2526\n",
      "Epoch 5/30\n",
      "27/27 [==============================] - 0s 2ms/step - loss: 2.3033 - accuracy: 0.2600 - val_loss: 2.2351 - val_accuracy: 0.2211\n",
      "Epoch 6/30\n",
      "27/27 [==============================] - 0s 2ms/step - loss: 2.2725 - accuracy: 0.2329 - val_loss: 2.3145 - val_accuracy: 0.1684\n",
      "Epoch 7/30\n",
      "27/27 [==============================] - 0s 2ms/step - loss: 2.2266 - accuracy: 0.2660 - val_loss: 2.3448 - val_accuracy: 0.2316\n",
      "Epoch 8/30\n",
      "27/27 [==============================] - 0s 2ms/step - loss: 2.2217 - accuracy: 0.2636 - val_loss: 2.2598 - val_accuracy: 0.2632\n",
      "Epoch 9/30\n",
      "27/27 [==============================] - 0s 2ms/step - loss: 2.2074 - accuracy: 0.2624 - val_loss: 2.3035 - val_accuracy: 0.2105\n",
      "Epoch 10/30\n",
      "27/27 [==============================] - 0s 3ms/step - loss: 2.2111 - accuracy: 0.2565 - val_loss: 2.2483 - val_accuracy: 0.2421\n",
      "Epoch 11/30\n",
      "27/27 [==============================] - 0s 2ms/step - loss: 2.1896 - accuracy: 0.2577 - val_loss: 2.2419 - val_accuracy: 0.2000\n",
      "Epoch 12/30\n",
      "27/27 [==============================] - 0s 2ms/step - loss: 2.2153 - accuracy: 0.2660 - val_loss: 2.2651 - val_accuracy: 0.2316\n",
      "Epoch 13/30\n",
      "27/27 [==============================] - 0s 2ms/step - loss: 2.1818 - accuracy: 0.2719 - val_loss: 2.2878 - val_accuracy: 0.2105\n",
      "Epoch 14/30\n",
      "27/27 [==============================] - 0s 2ms/step - loss: 2.1791 - accuracy: 0.2695 - val_loss: 2.2933 - val_accuracy: 0.2316\n",
      "Epoch 15/30\n",
      "27/27 [==============================] - 0s 2ms/step - loss: 2.1720 - accuracy: 0.2683 - val_loss: 2.2649 - val_accuracy: 0.2316\n",
      "Epoch 16/30\n",
      "27/27 [==============================] - 0s 2ms/step - loss: 2.1778 - accuracy: 0.2600 - val_loss: 2.2719 - val_accuracy: 0.2105\n",
      "Epoch 17/30\n",
      "27/27 [==============================] - 0s 2ms/step - loss: 2.1719 - accuracy: 0.2730 - val_loss: 2.1967 - val_accuracy: 0.2526\n",
      "Epoch 18/30\n",
      "27/27 [==============================] - 0s 2ms/step - loss: 2.1616 - accuracy: 0.2754 - val_loss: 2.2157 - val_accuracy: 0.2632\n",
      "Epoch 19/30\n",
      "27/27 [==============================] - 0s 2ms/step - loss: 2.1627 - accuracy: 0.2671 - val_loss: 2.1963 - val_accuracy: 0.2632\n",
      "Epoch 20/30\n",
      "27/27 [==============================] - 0s 2ms/step - loss: 2.1527 - accuracy: 0.2683 - val_loss: 2.1953 - val_accuracy: 0.2526\n",
      "Epoch 21/30\n",
      "27/27 [==============================] - 0s 2ms/step - loss: 2.1569 - accuracy: 0.2801 - val_loss: 2.2179 - val_accuracy: 0.2105\n",
      "Epoch 22/30\n",
      "27/27 [==============================] - 0s 2ms/step - loss: 2.1411 - accuracy: 0.2577 - val_loss: 2.2575 - val_accuracy: 0.2105\n",
      "Epoch 23/30\n",
      "27/27 [==============================] - 0s 2ms/step - loss: 2.1344 - accuracy: 0.2849 - val_loss: 2.2626 - val_accuracy: 0.2105\n",
      "Epoch 24/30\n",
      "27/27 [==============================] - 0s 2ms/step - loss: 2.1515 - accuracy: 0.2849 - val_loss: 2.1871 - val_accuracy: 0.2526\n",
      "Epoch 25/30\n",
      "27/27 [==============================] - 0s 2ms/step - loss: 2.1433 - accuracy: 0.2754 - val_loss: 2.2230 - val_accuracy: 0.2526\n",
      "Epoch 26/30\n",
      "27/27 [==============================] - 0s 2ms/step - loss: 2.1292 - accuracy: 0.2896 - val_loss: 2.2248 - val_accuracy: 0.2211\n",
      "Epoch 27/30\n",
      "27/27 [==============================] - 0s 2ms/step - loss: 2.1323 - accuracy: 0.2849 - val_loss: 2.2092 - val_accuracy: 0.2316\n",
      "Epoch 28/30\n",
      "27/27 [==============================] - 0s 2ms/step - loss: 2.1339 - accuracy: 0.2754 - val_loss: 2.2334 - val_accuracy: 0.2316\n",
      "Epoch 29/30\n",
      "27/27 [==============================] - 0s 2ms/step - loss: 2.1363 - accuracy: 0.2671 - val_loss: 2.2389 - val_accuracy: 0.2421\n",
      "Epoch 30/30\n",
      "27/27 [==============================] - 0s 2ms/step - loss: 2.1426 - accuracy: 0.2754 - val_loss: 2.2352 - val_accuracy: 0.2105\n"
     ]
    },
    {
     "data": {
      "text/plain": [
       "<keras.callbacks.History at 0x7f2563197110>"
      ]
     },
     "execution_count": 16,
     "metadata": {},
     "output_type": "execute_result"
    }
   ],
   "source": [
    "model = tf.keras.Sequential()\n",
    "model.add(tf.keras.layers.Dense(xtr.shape[1], input_shape=(xtr.shape[1],), activation='relu', kernel_regularizer=tf.keras.regularizers.L1(0.02)))\n",
    "model.add(tf.keras.layers.Dense(num_labels, activation='softmax'))\n",
    "\n",
    "model.compile(optimizer=opt, loss=loss_fn, metrics=['accuracy'])\n",
    "model.fit(xtr, ytr, epochs=30, validation_data=(xv, yv))"
   ]
  },
  {
   "cell_type": "markdown",
   "metadata": {
    "id": "Pa6p_U4It_Ex"
   },
   "source": [
    "L1 regularisation seems to have worked better than Dropout in reducing overfitting. But like Dropout, it doesn't help imporve the accuracy much."
   ]
  },
  {
   "cell_type": "markdown",
   "metadata": {
    "id": "IO4Ih1mrsECc"
   },
   "source": [
    "#### L2 Regularisation"
   ]
  },
  {
   "cell_type": "code",
   "execution_count": 17,
   "metadata": {
    "colab": {
     "base_uri": "https://localhost:8080/"
    },
    "id": "nwM5qHGusHM3",
    "outputId": "aee3d58c-9a92-41c4-ff6d-c66246b14b54"
   },
   "outputs": [
    {
     "name": "stdout",
     "output_type": "stream",
     "text": [
      "Epoch 1/30\n",
      "27/27 [==============================] - 1s 7ms/step - loss: 3.9682 - accuracy: 0.1040 - val_loss: 2.7136 - val_accuracy: 0.1158\n",
      "Epoch 2/30\n",
      "27/27 [==============================] - 0s 2ms/step - loss: 2.4886 - accuracy: 0.1182 - val_loss: 2.3921 - val_accuracy: 0.1053\n",
      "Epoch 3/30\n",
      "27/27 [==============================] - 0s 2ms/step - loss: 2.3617 - accuracy: 0.1537 - val_loss: 2.2904 - val_accuracy: 0.1895\n",
      "Epoch 4/30\n",
      "27/27 [==============================] - 0s 2ms/step - loss: 2.3542 - accuracy: 0.1442 - val_loss: 2.3198 - val_accuracy: 0.1789\n",
      "Epoch 5/30\n",
      "27/27 [==============================] - 0s 2ms/step - loss: 2.3360 - accuracy: 0.1596 - val_loss: 2.3390 - val_accuracy: 0.2000\n",
      "Epoch 6/30\n",
      "27/27 [==============================] - 0s 2ms/step - loss: 2.3170 - accuracy: 0.1525 - val_loss: 2.3071 - val_accuracy: 0.1263\n",
      "Epoch 7/30\n",
      "27/27 [==============================] - 0s 2ms/step - loss: 2.2927 - accuracy: 0.1785 - val_loss: 2.2668 - val_accuracy: 0.1684\n",
      "Epoch 8/30\n",
      "27/27 [==============================] - 0s 2ms/step - loss: 2.2712 - accuracy: 0.1974 - val_loss: 2.2652 - val_accuracy: 0.1684\n",
      "Epoch 9/30\n",
      "27/27 [==============================] - 0s 2ms/step - loss: 2.2789 - accuracy: 0.1797 - val_loss: 2.2317 - val_accuracy: 0.2000\n",
      "Epoch 10/30\n",
      "27/27 [==============================] - 0s 2ms/step - loss: 2.2531 - accuracy: 0.2234 - val_loss: 2.2497 - val_accuracy: 0.2000\n",
      "Epoch 11/30\n",
      "27/27 [==============================] - 0s 2ms/step - loss: 2.2661 - accuracy: 0.2057 - val_loss: 2.2831 - val_accuracy: 0.1579\n",
      "Epoch 12/30\n",
      "27/27 [==============================] - 0s 2ms/step - loss: 2.2260 - accuracy: 0.2258 - val_loss: 2.2528 - val_accuracy: 0.2000\n",
      "Epoch 13/30\n",
      "27/27 [==============================] - 0s 2ms/step - loss: 2.2691 - accuracy: 0.2139 - val_loss: 2.2428 - val_accuracy: 0.1579\n",
      "Epoch 14/30\n",
      "27/27 [==============================] - 0s 2ms/step - loss: 2.2324 - accuracy: 0.2151 - val_loss: 2.3201 - val_accuracy: 0.1474\n",
      "Epoch 15/30\n",
      "27/27 [==============================] - 0s 2ms/step - loss: 2.2320 - accuracy: 0.2270 - val_loss: 2.2342 - val_accuracy: 0.2105\n",
      "Epoch 16/30\n",
      "27/27 [==============================] - 0s 2ms/step - loss: 2.2456 - accuracy: 0.1903 - val_loss: 2.2356 - val_accuracy: 0.2000\n",
      "Epoch 17/30\n",
      "27/27 [==============================] - 0s 2ms/step - loss: 2.2005 - accuracy: 0.2340 - val_loss: 2.3147 - val_accuracy: 0.1579\n",
      "Epoch 18/30\n",
      "27/27 [==============================] - 0s 2ms/step - loss: 2.2153 - accuracy: 0.2163 - val_loss: 2.2736 - val_accuracy: 0.1895\n",
      "Epoch 19/30\n",
      "27/27 [==============================] - 0s 2ms/step - loss: 2.2040 - accuracy: 0.2411 - val_loss: 2.2301 - val_accuracy: 0.2316\n",
      "Epoch 20/30\n",
      "27/27 [==============================] - 0s 2ms/step - loss: 2.2114 - accuracy: 0.2163 - val_loss: 2.2922 - val_accuracy: 0.1579\n",
      "Epoch 21/30\n",
      "27/27 [==============================] - 0s 2ms/step - loss: 2.2056 - accuracy: 0.2258 - val_loss: 2.2820 - val_accuracy: 0.1789\n",
      "Epoch 22/30\n",
      "27/27 [==============================] - 0s 2ms/step - loss: 2.2024 - accuracy: 0.2340 - val_loss: 2.1856 - val_accuracy: 0.2421\n",
      "Epoch 23/30\n",
      "27/27 [==============================] - 0s 2ms/step - loss: 2.1832 - accuracy: 0.2470 - val_loss: 2.2919 - val_accuracy: 0.1579\n",
      "Epoch 24/30\n",
      "27/27 [==============================] - 0s 2ms/step - loss: 2.1754 - accuracy: 0.2435 - val_loss: 2.2053 - val_accuracy: 0.2316\n",
      "Epoch 25/30\n",
      "27/27 [==============================] - 0s 2ms/step - loss: 2.2265 - accuracy: 0.2045 - val_loss: 2.2774 - val_accuracy: 0.1895\n",
      "Epoch 26/30\n",
      "27/27 [==============================] - 0s 2ms/step - loss: 2.1986 - accuracy: 0.2459 - val_loss: 2.2791 - val_accuracy: 0.2421\n",
      "Epoch 27/30\n",
      "27/27 [==============================] - 0s 2ms/step - loss: 2.1797 - accuracy: 0.2482 - val_loss: 2.2671 - val_accuracy: 0.1895\n",
      "Epoch 28/30\n",
      "27/27 [==============================] - 0s 2ms/step - loss: 2.1825 - accuracy: 0.2317 - val_loss: 2.3076 - val_accuracy: 0.2632\n",
      "Epoch 29/30\n",
      "27/27 [==============================] - 0s 2ms/step - loss: 2.1833 - accuracy: 0.2518 - val_loss: 2.2699 - val_accuracy: 0.2316\n",
      "Epoch 30/30\n",
      "27/27 [==============================] - 0s 2ms/step - loss: 2.1784 - accuracy: 0.2388 - val_loss: 2.2037 - val_accuracy: 0.2000\n"
     ]
    },
    {
     "data": {
      "text/plain": [
       "<keras.callbacks.History at 0x7f2563043890>"
      ]
     },
     "execution_count": 17,
     "metadata": {},
     "output_type": "execute_result"
    }
   ],
   "source": [
    "model = tf.keras.Sequential()\n",
    "model.add(tf.keras.layers.Dense(xtr.shape[1], input_shape=(xtr.shape[1],), activation='relu', kernel_regularizer=tf.keras.regularizers.L2(0.3)))\n",
    "model.add(tf.keras.layers.Dense(num_labels, activation='softmax'))\n",
    "\n",
    "model.compile(optimizer=opt, loss=loss_fn, metrics=['accuracy'])\n",
    "model.fit(xtr, ytr, epochs=30, validation_data=(xv, yv))"
   ]
  },
  {
   "cell_type": "markdown",
   "metadata": {
    "id": "RNjwtJPHuShu"
   },
   "source": [
    "L2 regularisation seems to show a similar effect as L1. "
   ]
  },
  {
   "cell_type": "markdown",
   "metadata": {
    "id": "Btdl63ywurnl"
   },
   "source": [
    "#### Using all of them together"
   ]
  },
  {
   "cell_type": "code",
   "execution_count": 18,
   "metadata": {
    "colab": {
     "base_uri": "https://localhost:8080/"
    },
    "id": "UxT_n3eYuvej",
    "outputId": "4dc26815-c6a1-4d00-c1af-6a0c9a9b5aa3"
   },
   "outputs": [
    {
     "name": "stdout",
     "output_type": "stream",
     "text": [
      "Epoch 1/30\n",
      "27/27 [==============================] - 1s 8ms/step - loss: 3.3624 - accuracy: 0.1111 - val_loss: 2.7070 - val_accuracy: 0.1684\n",
      "Epoch 2/30\n",
      "27/27 [==============================] - 0s 2ms/step - loss: 2.5364 - accuracy: 0.1229 - val_loss: 2.3697 - val_accuracy: 0.1158\n",
      "Epoch 3/30\n",
      "27/27 [==============================] - 0s 2ms/step - loss: 2.3535 - accuracy: 0.1288 - val_loss: 2.3096 - val_accuracy: 0.2000\n",
      "Epoch 4/30\n",
      "27/27 [==============================] - 0s 2ms/step - loss: 2.3132 - accuracy: 0.1418 - val_loss: 2.2747 - val_accuracy: 0.1579\n",
      "Epoch 5/30\n",
      "27/27 [==============================] - 0s 2ms/step - loss: 2.2937 - accuracy: 0.1584 - val_loss: 2.2785 - val_accuracy: 0.1684\n",
      "Epoch 6/30\n",
      "27/27 [==============================] - 0s 2ms/step - loss: 2.3143 - accuracy: 0.1478 - val_loss: 2.2632 - val_accuracy: 0.1474\n",
      "Epoch 7/30\n",
      "27/27 [==============================] - 0s 2ms/step - loss: 2.2976 - accuracy: 0.1418 - val_loss: 2.2631 - val_accuracy: 0.1789\n",
      "Epoch 8/30\n",
      "27/27 [==============================] - 0s 2ms/step - loss: 2.2816 - accuracy: 0.1596 - val_loss: 2.2515 - val_accuracy: 0.2000\n",
      "Epoch 9/30\n",
      "27/27 [==============================] - 0s 2ms/step - loss: 2.2592 - accuracy: 0.1548 - val_loss: 2.2218 - val_accuracy: 0.2316\n",
      "Epoch 10/30\n",
      "27/27 [==============================] - 0s 2ms/step - loss: 2.2775 - accuracy: 0.1513 - val_loss: 2.2500 - val_accuracy: 0.2316\n",
      "Epoch 11/30\n",
      "27/27 [==============================] - 0s 2ms/step - loss: 2.2649 - accuracy: 0.1537 - val_loss: 2.2426 - val_accuracy: 0.2000\n",
      "Epoch 12/30\n",
      "27/27 [==============================] - 0s 2ms/step - loss: 2.2711 - accuracy: 0.1513 - val_loss: 2.2296 - val_accuracy: 0.2737\n",
      "Epoch 13/30\n",
      "27/27 [==============================] - 0s 2ms/step - loss: 2.2787 - accuracy: 0.1525 - val_loss: 2.2329 - val_accuracy: 0.2105\n",
      "Epoch 14/30\n",
      "27/27 [==============================] - 0s 2ms/step - loss: 2.2752 - accuracy: 0.1608 - val_loss: 2.2417 - val_accuracy: 0.2000\n",
      "Epoch 15/30\n",
      "27/27 [==============================] - 0s 2ms/step - loss: 2.2766 - accuracy: 0.1442 - val_loss: 2.2365 - val_accuracy: 0.2000\n",
      "Epoch 16/30\n",
      "27/27 [==============================] - 0s 2ms/step - loss: 2.2409 - accuracy: 0.1797 - val_loss: 2.2387 - val_accuracy: 0.1474\n",
      "Epoch 17/30\n",
      "27/27 [==============================] - 0s 2ms/step - loss: 2.2745 - accuracy: 0.1608 - val_loss: 2.2321 - val_accuracy: 0.1474\n",
      "Epoch 18/30\n",
      "27/27 [==============================] - 0s 2ms/step - loss: 2.2528 - accuracy: 0.1548 - val_loss: 2.2158 - val_accuracy: 0.1474\n",
      "Epoch 19/30\n",
      "27/27 [==============================] - 0s 2ms/step - loss: 2.2613 - accuracy: 0.1619 - val_loss: 2.2588 - val_accuracy: 0.1789\n",
      "Epoch 20/30\n",
      "27/27 [==============================] - 0s 2ms/step - loss: 2.2481 - accuracy: 0.1442 - val_loss: 2.2070 - val_accuracy: 0.2000\n",
      "Epoch 21/30\n",
      "27/27 [==============================] - 0s 2ms/step - loss: 2.2613 - accuracy: 0.1560 - val_loss: 2.2366 - val_accuracy: 0.2211\n",
      "Epoch 22/30\n",
      "27/27 [==============================] - 0s 2ms/step - loss: 2.2406 - accuracy: 0.1749 - val_loss: 2.2162 - val_accuracy: 0.1789\n",
      "Epoch 23/30\n",
      "27/27 [==============================] - 0s 3ms/step - loss: 2.2620 - accuracy: 0.1418 - val_loss: 2.2131 - val_accuracy: 0.2316\n",
      "Epoch 24/30\n",
      "27/27 [==============================] - 0s 2ms/step - loss: 2.2552 - accuracy: 0.1761 - val_loss: 2.2368 - val_accuracy: 0.1789\n",
      "Epoch 25/30\n",
      "27/27 [==============================] - 0s 2ms/step - loss: 2.2588 - accuracy: 0.1631 - val_loss: 2.2022 - val_accuracy: 0.1895\n",
      "Epoch 26/30\n",
      "27/27 [==============================] - 0s 2ms/step - loss: 2.2414 - accuracy: 0.1761 - val_loss: 2.2304 - val_accuracy: 0.1895\n",
      "Epoch 27/30\n",
      "27/27 [==============================] - 0s 2ms/step - loss: 2.2421 - accuracy: 0.1702 - val_loss: 2.2157 - val_accuracy: 0.1474\n",
      "Epoch 28/30\n",
      "27/27 [==============================] - 0s 2ms/step - loss: 2.2572 - accuracy: 0.1655 - val_loss: 2.2101 - val_accuracy: 0.2211\n",
      "Epoch 29/30\n",
      "27/27 [==============================] - 0s 2ms/step - loss: 2.2542 - accuracy: 0.1584 - val_loss: 2.2294 - val_accuracy: 0.1895\n",
      "Epoch 30/30\n",
      "27/27 [==============================] - 0s 2ms/step - loss: 2.2448 - accuracy: 0.1608 - val_loss: 2.2045 - val_accuracy: 0.2000\n"
     ]
    },
    {
     "data": {
      "text/plain": [
       "<keras.callbacks.History at 0x7f2562ebe2d0>"
      ]
     },
     "execution_count": 18,
     "metadata": {},
     "output_type": "execute_result"
    }
   ],
   "source": [
    "model = tf.keras.Sequential()\n",
    "model.add(tf.keras.layers.Dense(xtr.shape[1], input_shape=(xtr.shape[1],), activation='relu', kernel_regularizer=tf.keras.regularizers.L1L2(0.01, 0.05)))\n",
    "model.add(tf.keras.layers.Dropout(0.2))\n",
    "model.add(tf.keras.layers.Dense(num_labels, activation='softmax'))\n",
    "\n",
    "model.compile(optimizer=opt, loss=loss_fn, metrics=['accuracy'])\n",
    "model.fit(xtr, ytr, epochs=30, validation_data=(xv, yv))"
   ]
  },
  {
   "cell_type": "markdown",
   "metadata": {
    "id": "d605cwtywBxa"
   },
   "source": [
    "### Varying number of layers and nodes"
   ]
  },
  {
   "cell_type": "code",
   "execution_count": 19,
   "metadata": {
    "id": "T2WwfYgsYTqc"
   },
   "outputs": [],
   "source": [
    "def getAccuracy(numoflayers, numofnodes):\n",
    "    \n",
    "    # Initialise Neural network\n",
    "    model=tf.keras.models.Sequential()\n",
    "    model.add(tf.keras.layers.Dense(xtr.shape[1], input_shape=(xtr.shape[1],), activation='relu'))\n",
    "    for i in range(1, numoflayers+1):\n",
    "        model.add(tf.keras.layers.Dense(xtr.shape[1]*numofnodes, activation='relu'))\n",
    "        model.add(tf.keras.layers.Dropout(0.2))\n",
    "    model.add(tf.keras.layers.Dense(num_labels, activation='softmax'))\n",
    "\n",
    "    # Decide parameters\n",
    "    model.compile(optimizer=opt, loss=loss_fn, metrics=['accuracy'])\n",
    "    \n",
    "    # Train model and get accuracy\n",
    "    model.fit(xtr, ytr, epochs=30, verbose=0)\n",
    "    val_accuracy=model.evaluate(xv, yv, verbose=0)[1]\n",
    "    \n",
    "    return val_accuracy"
   ]
  },
  {
   "cell_type": "code",
   "execution_count": 20,
   "metadata": {
    "colab": {
     "base_uri": "https://localhost:8080/"
    },
    "id": "1xN5BBEp83Hk",
    "outputId": "9af73476-5974-4d6d-be6a-1f809336869e"
   },
   "outputs": [
    {
     "name": "stdout",
     "output_type": "stream",
     "text": [
      "WARNING:tensorflow:5 out of the last 100 calls to <function Model.make_test_function.<locals>.test_function at 0x7f255c82f680> triggered tf.function retracing. Tracing is expensive and the excessive number of tracings could be due to (1) creating @tf.function repeatedly in a loop, (2) passing tensors with different shapes, (3) passing Python objects instead of tensors. For (1), please define your @tf.function outside of the loop. For (2), @tf.function has experimental_relax_shapes=True option that relaxes argument shapes that can avoid unnecessary retracing. For (3), please refer to https://www.tensorflow.org/guide/function#controlling_retracing and https://www.tensorflow.org/api_docs/python/tf/function for  more details.\n",
      "WARNING:tensorflow:5 out of the last 13 calls to <function Model.make_test_function.<locals>.test_function at 0x7f255c6cb8c0> triggered tf.function retracing. Tracing is expensive and the excessive number of tracings could be due to (1) creating @tf.function repeatedly in a loop, (2) passing tensors with different shapes, (3) passing Python objects instead of tensors. For (1), please define your @tf.function outside of the loop. For (2), @tf.function has experimental_relax_shapes=True option that relaxes argument shapes that can avoid unnecessary retracing. For (3), please refer to https://www.tensorflow.org/guide/function#controlling_retracing and https://www.tensorflow.org/api_docs/python/tf/function for  more details.\n",
      "Layers - 1\tNodes - 1\tAccuracy - 18.73684\n",
      "Layers - 1\tNodes - 2\tAccuracy - 22.73684\n",
      "Layers - 1\tNodes - 3\tAccuracy - 22.52632\n",
      "Layers - 1\tNodes - 4\tAccuracy - 22.94737\n",
      "Layers - 1\tNodes - 5\tAccuracy - 23.57895\n",
      "Layers - 1\tNodes - 6\tAccuracy - 23.78947\n",
      "Layers - 1\tNodes - 7\tAccuracy - 23.57895\n",
      "Layers - 1\tNodes - 8\tAccuracy - 20.21053\n",
      "Layers - 1\tNodes - 9\tAccuracy - 22.73684\n",
      "Layers - 1\tNodes - 10\tAccuracy - 21.89474\n",
      "Layers - 2\tNodes - 1\tAccuracy - 14.10526\n",
      "Layers - 2\tNodes - 2\tAccuracy - 16.63158\n",
      "Layers - 2\tNodes - 3\tAccuracy - 17.05263\n",
      "Layers - 2\tNodes - 4\tAccuracy - 15.15789\n",
      "Layers - 2\tNodes - 5\tAccuracy - 18.31579\n",
      "Layers - 2\tNodes - 6\tAccuracy - 16.63158\n",
      "Layers - 2\tNodes - 7\tAccuracy - 16.63158\n",
      "Layers - 2\tNodes - 8\tAccuracy - 13.05263\n",
      "Layers - 2\tNodes - 9\tAccuracy - 11.15789\n",
      "Layers - 2\tNodes - 10\tAccuracy - 14.73684\n",
      "Layers - 3\tNodes - 1\tAccuracy - 11.1579\n",
      "Layers - 3\tNodes - 2\tAccuracy - 13.26316\n",
      "Layers - 3\tNodes - 3\tAccuracy - 13.05263\n",
      "Layers - 3\tNodes - 4\tAccuracy - 10.10526\n",
      "Layers - 3\tNodes - 5\tAccuracy - 10.94737\n",
      "Layers - 3\tNodes - 6\tAccuracy - 11.57895\n",
      "Layers - 3\tNodes - 7\tAccuracy - 12.21053\n",
      "Layers - 3\tNodes - 8\tAccuracy - 9.89474\n",
      "Layers - 3\tNodes - 9\tAccuracy - 10.94737\n",
      "Layers - 3\tNodes - 10\tAccuracy - 11.57895\n",
      "Training completed in time:  0:05:09.458286\n"
     ]
    }
   ],
   "source": [
    "from datetime import datetime\n",
    "start = datetime.now()\n",
    "tries = 5\n",
    "for layer in range(1, 4):\n",
    "    for node in range(1,11):\n",
    "        acc = 0\n",
    "        for i in range(tries):\n",
    "            acc += getAccuracy(layer, node)\n",
    "        acc /= tries\n",
    "        print(f'Layers - {layer}\\tNodes - {node}\\tAccuracy - {round(acc*100, 5)}')\n",
    "duration = datetime.now() - start\n",
    "print(\"Training completed in time: \", duration)"
   ]
  },
  {
   "cell_type": "markdown",
   "metadata": {
    "id": "xQpttmn9xlQo"
   },
   "source": [
    "We can see that increasing the layers tends to become conterproductive and is better avoided. Also, the change in number of nodes doesn't affect the accuracy as significantly with lesser layers."
   ]
  },
  {
   "cell_type": "code",
   "execution_count": 21,
   "metadata": {
    "colab": {
     "base_uri": "https://localhost:8080/"
    },
    "id": "3PRy5UZ8ecIR",
    "outputId": "9fae26a5-b42c-472f-812b-bfec082ed6fb"
   },
   "outputs": [
    {
     "name": "stdout",
     "output_type": "stream",
     "text": [
      "Model: \"sequential_156\"\n",
      "_________________________________________________________________\n",
      "Layer (type)                 Output Shape              Param #   \n",
      "=================================================================\n",
      "dense_612 (Dense)            (None, 30)                930       \n",
      "_________________________________________________________________\n",
      "dense_613 (Dense)            (None, 180)               5580      \n",
      "_________________________________________________________________\n",
      "dropout_302 (Dropout)        (None, 180)               0         \n",
      "_________________________________________________________________\n",
      "dense_614 (Dense)            (None, 10)                1810      \n",
      "=================================================================\n",
      "Total params: 8,320\n",
      "Trainable params: 8,320\n",
      "Non-trainable params: 0\n",
      "_________________________________________________________________\n"
     ]
    }
   ],
   "source": [
    "numoflayers = 1\n",
    "numofnodes = 6\n",
    "\n",
    "model=tf.keras.models.Sequential()\n",
    "model.add(tf.keras.layers.Dense(xtr.shape[1],input_shape=(xtr.shape[1],), activation='relu'))\n",
    "for i in range(1, numoflayers+1):\n",
    "      nodes = xtr.shape[1]*numofnodes\n",
    "      model.add(tf.keras.layers.Dense(nodes, activation='relu'))\n",
    "      model.add(tf.keras.layers.Dropout(0.2))\n",
    "model.add(tf.keras.layers.Dense(num_labels, activation='softmax'))\n",
    "\n",
    "# Decide parameters\n",
    "model.compile(optimizer=opt, loss=loss_fn, metrics=['accuracy'])\n",
    "model.summary()"
   ]
  },
  {
   "cell_type": "code",
   "execution_count": 25,
   "metadata": {
    "colab": {
     "base_uri": "https://localhost:8080/"
    },
    "id": "Cgf8Sxpq6S-d",
    "outputId": "1bd4035c-6808-4dc0-bff6-23179bdd819e"
   },
   "outputs": [
    {
     "name": "stdout",
     "output_type": "stream",
     "text": [
      "Epoch 1/30\n",
      "27/27 [==============================] - 0s 3ms/step - loss: 1.4966 - accuracy: 0.4184 - val_loss: 3.3049 - val_accuracy: 0.2105\n",
      "Epoch 2/30\n",
      "27/27 [==============================] - 0s 2ms/step - loss: 1.4814 - accuracy: 0.4314 - val_loss: 3.4594 - val_accuracy: 0.1895\n",
      "Epoch 3/30\n",
      "27/27 [==============================] - 0s 2ms/step - loss: 1.4805 - accuracy: 0.4350 - val_loss: 3.1891 - val_accuracy: 0.1684\n",
      "Epoch 4/30\n",
      "27/27 [==============================] - 0s 2ms/step - loss: 1.4199 - accuracy: 0.4539 - val_loss: 3.7009 - val_accuracy: 0.1579\n",
      "Epoch 5/30\n",
      "27/27 [==============================] - 0s 2ms/step - loss: 1.4267 - accuracy: 0.4444 - val_loss: 3.4979 - val_accuracy: 0.2105\n",
      "Epoch 6/30\n",
      "27/27 [==============================] - 0s 2ms/step - loss: 1.3873 - accuracy: 0.4645 - val_loss: 3.5533 - val_accuracy: 0.2105\n",
      "Epoch 7/30\n",
      "27/27 [==============================] - 0s 2ms/step - loss: 1.3966 - accuracy: 0.4669 - val_loss: 3.5694 - val_accuracy: 0.2000\n",
      "Epoch 8/30\n",
      "27/27 [==============================] - 0s 2ms/step - loss: 1.3662 - accuracy: 0.4704 - val_loss: 3.5815 - val_accuracy: 0.2421\n",
      "Epoch 9/30\n",
      "27/27 [==============================] - 0s 2ms/step - loss: 1.3799 - accuracy: 0.4787 - val_loss: 3.5348 - val_accuracy: 0.2105\n",
      "Epoch 10/30\n",
      "27/27 [==============================] - 0s 2ms/step - loss: 1.3641 - accuracy: 0.4598 - val_loss: 3.7768 - val_accuracy: 0.1895\n",
      "Epoch 11/30\n",
      "27/27 [==============================] - 0s 2ms/step - loss: 1.3761 - accuracy: 0.4657 - val_loss: 3.7406 - val_accuracy: 0.1895\n",
      "Epoch 12/30\n",
      "27/27 [==============================] - 0s 3ms/step - loss: 1.3512 - accuracy: 0.4823 - val_loss: 4.0663 - val_accuracy: 0.2105\n",
      "Epoch 13/30\n",
      "27/27 [==============================] - 0s 2ms/step - loss: 1.3020 - accuracy: 0.5000 - val_loss: 3.7295 - val_accuracy: 0.2316\n",
      "Epoch 14/30\n",
      "27/27 [==============================] - 0s 2ms/step - loss: 1.3248 - accuracy: 0.4882 - val_loss: 3.7937 - val_accuracy: 0.2316\n",
      "Epoch 15/30\n",
      "27/27 [==============================] - 0s 3ms/step - loss: 1.3140 - accuracy: 0.4929 - val_loss: 3.8388 - val_accuracy: 0.2211\n",
      "Epoch 16/30\n",
      "27/27 [==============================] - 0s 2ms/step - loss: 1.3339 - accuracy: 0.4894 - val_loss: 3.9044 - val_accuracy: 0.2421\n",
      "Epoch 17/30\n",
      "27/27 [==============================] - 0s 2ms/step - loss: 1.2795 - accuracy: 0.5118 - val_loss: 4.0581 - val_accuracy: 0.2421\n",
      "Epoch 18/30\n",
      "27/27 [==============================] - 0s 2ms/step - loss: 1.2925 - accuracy: 0.4905 - val_loss: 3.7098 - val_accuracy: 0.2211\n",
      "Epoch 19/30\n",
      "27/27 [==============================] - 0s 2ms/step - loss: 1.2705 - accuracy: 0.5095 - val_loss: 4.1521 - val_accuracy: 0.1789\n",
      "Epoch 20/30\n",
      "27/27 [==============================] - 0s 2ms/step - loss: 1.2374 - accuracy: 0.5213 - val_loss: 4.2936 - val_accuracy: 0.2000\n",
      "Epoch 21/30\n",
      "27/27 [==============================] - 0s 2ms/step - loss: 1.2522 - accuracy: 0.5225 - val_loss: 4.3362 - val_accuracy: 0.2105\n",
      "Epoch 22/30\n",
      "27/27 [==============================] - 0s 2ms/step - loss: 1.2656 - accuracy: 0.5248 - val_loss: 4.4322 - val_accuracy: 0.2211\n",
      "Epoch 23/30\n",
      "27/27 [==============================] - 0s 2ms/step - loss: 1.3084 - accuracy: 0.4894 - val_loss: 4.2687 - val_accuracy: 0.2211\n",
      "Epoch 24/30\n",
      "27/27 [==============================] - 0s 2ms/step - loss: 1.2803 - accuracy: 0.5047 - val_loss: 4.3751 - val_accuracy: 0.2316\n",
      "Epoch 25/30\n",
      "27/27 [==============================] - 0s 2ms/step - loss: 1.2459 - accuracy: 0.5236 - val_loss: 4.4000 - val_accuracy: 0.2000\n",
      "Epoch 26/30\n",
      "27/27 [==============================] - 0s 2ms/step - loss: 1.2332 - accuracy: 0.5343 - val_loss: 4.5689 - val_accuracy: 0.2211\n",
      "Epoch 27/30\n",
      "27/27 [==============================] - 0s 3ms/step - loss: 1.1621 - accuracy: 0.5473 - val_loss: 4.3191 - val_accuracy: 0.2211\n",
      "Epoch 28/30\n",
      "27/27 [==============================] - 0s 2ms/step - loss: 1.1884 - accuracy: 0.5579 - val_loss: 4.6857 - val_accuracy: 0.2211\n",
      "Epoch 29/30\n",
      "27/27 [==============================] - 0s 2ms/step - loss: 1.2020 - accuracy: 0.5307 - val_loss: 4.5364 - val_accuracy: 0.2211\n",
      "Epoch 30/30\n",
      "27/27 [==============================] - 0s 2ms/step - loss: 1.2237 - accuracy: 0.5307 - val_loss: 4.9179 - val_accuracy: 0.2632\n",
      "3/3 [==============================] - 0s 4ms/step - loss: 4.9179 - accuracy: 0.2632\n"
     ]
    },
    {
     "data": {
      "text/plain": [
       "[4.91787052154541, 0.2631579041481018]"
      ]
     },
     "execution_count": 25,
     "metadata": {},
     "output_type": "execute_result"
    }
   ],
   "source": [
    "# Train model and get accuracy\n",
    "model.fit(xtr, ytr, epochs=30, validation_data=(xv, yv))\n",
    "model.evaluate(xv, yv)"
   ]
  },
  {
   "cell_type": "markdown",
   "metadata": {
    "id": "HeIIK8R9ydfk"
   },
   "source": [
    "It appears that we need a fairly simple model to get a good accuracy. The accuracy may not be \"good\" in a real world scenario but it is the best we get in the search space we explored."
   ]
  },
  {
   "cell_type": "code",
   "execution_count": 26,
   "metadata": {
    "colab": {
     "base_uri": "https://localhost:8080/"
    },
    "id": "1HI2JzXre_Hs",
    "outputId": "e69494ad-ecd1-4bb9-a01a-213f8664d3f1"
   },
   "outputs": [
    {
     "data": {
      "text/plain": [
       "[3.7647361755371094, 0.2666666805744171]"
      ]
     },
     "execution_count": 26,
     "metadata": {},
     "output_type": "execute_result"
    }
   ],
   "source": [
    "real_accuracy=model.evaluate(xts,yts,verbose=0)\n",
    "real_accuracy"
   ]
  },
  {
   "cell_type": "markdown",
   "metadata": {
    "id": "6JJFj3yZfY3J"
   },
   "source": [
    "After tuning and using the best parameters,we can say that we get the accuracy of 26.67% has been achieved"
   ]
  },
  {
   "cell_type": "code",
   "execution_count": 23,
   "metadata": {
    "id": "6UcZNWscfiFR"
   },
   "outputs": [],
   "source": []
  }
 ],
 "metadata": {
  "colab": {
   "collapsed_sections": [
    "9VIqKfn-n_bL",
    "gCMNIaOFsGTw",
    "-sQkBKKy2YOf"
   ],
   "name": "DL Lab 3.ipynb",
   "provenance": []
  },
  "kernelspec": {
   "display_name": "Python 3",
   "language": "python",
   "name": "python3"
  },
  "language_info": {
   "codemirror_mode": {
    "name": "ipython",
    "version": 3
   },
   "file_extension": ".py",
   "mimetype": "text/x-python",
   "name": "python",
   "nbconvert_exporter": "python",
   "pygments_lexer": "ipython3",
   "version": "3.8.5"
  }
 },
 "nbformat": 4,
 "nbformat_minor": 1
}
